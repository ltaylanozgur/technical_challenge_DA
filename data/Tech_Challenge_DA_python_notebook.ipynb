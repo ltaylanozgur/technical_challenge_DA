{
 "cells": [
  {
   "cell_type": "markdown",
   "id": "6ef50aac",
   "metadata": {},
   "source": [
    "# Instructions"
   ]
  },
  {
   "cell_type": "markdown",
   "id": "c47343fc",
   "metadata": {},
   "source": [
    "Cobify is a company dedicated to people transport just like Uber, Lyft or even Cabify (who clearly stole our name).\n",
    "\n",
    "Cobify was founded in 1992 coinciding with the Olympic Games hosted in Barcelona. Our company has always been known by:\n",
    "\n",
    "Not having permits to drive people (we do know how to drive)\n",
    "Using tricked-out high-end car\n",
    "In our home town, Barcelona, VTC licenses have appeared and we have been able to start being a legal company, because we do have licenses now. However, we still keep using tricked-out high-end cars.\n",
    "\n",
    "We are an old school company and data analysis falls far beyond our reach, and as we do not want to be on the news we want to know how you can help our business.\n",
    "\n",
    "A bit of history of the gas problem ⛽️\n",
    "Tricked-out cars use gas with a high cetane index, like unleaded 98 petrol in order to avoid delay/advancing in combustible injection (avoiding connecting rod pitting ), but we have started to embrace petrols that add ethanol in their formula, as they are cheaper and they use the same cetane index as more expensive petrol. Without going into further detail (we could write an actual book about this) we think that going green and being modern can be very expensive, as we have seen that cars use more petrol than they used to for each trip.\n",
    "\n",
    "Your challenge starts here 📈\n",
    "Now it is your turn: can you help us find the best combustible? We have saved some consumption data in a .csv, but… it would be very nice if you could add some more data. You can find data in the repo :-)\n",
    "\n",
    "Show us your abilities and make yourself worth the amount of money you'd like to get paid. You have 3 hours to turn the challenge in starting right now! 💸\n",
    "\n",
    "What to do?\n",
    "You should aim for:\n",
    "Exploratory data analysis\n",
    "Get to know the domain\n",
    "Explore your data\n",
    "Clean your data\n",
    "Take a look and find connections between data\n",
    "Note: Above you have your data set in a folder but for further reference here is the data set source: https://www.kaggle.com/datasets/anderas/car-consume\n",
    "\n",
    "Visualization\n",
    "Plot your data in a meaningful way\n",
    "Predictions\n",
    "Do you have any hypothesis?\n",
    "Can you make any kind of prediction: regression and/or classification?\n",
    "Storytelling\n",
    "What metrics are you obtaining?\n",
    "Explain your conclusions\n",
    "Shape your new data and conclusions in such a way that is appealing to the listener and tells a story\n",
    "Extra:\n",
    "Enrich your dataset\n",
    "Add value: obtain related data by web scraping or with APIs.\n",
    "Database\n",
    "Load the processed information into a database\n",
    "\n",
    "Submission\n",
    "To deliver your proposal make a fork of the repo and when you are done make a pull request. 🤯\n",
    "\n",
    "How to do a pull request\n",
    "Fork this repository\n",
    "Clone it\n",
    "Work on it\n",
    "Push the changes to your fork\n",
    "From your fork, click on Contribute\n",
    "Open pull request\n",
    "Name it: [Name FamilyName] Tech challenge\n",
    "Do not forget to add any PDF document, slides or anything you can think of.\n",
    "\n",
    "You can grab ideas from our instructors or create something with streamlit 🚀\n",
    "\n",
    "Go bezerk if you want to get this job, you will set the limits!\n",
    "\n",
    "PD: even though this has an informal tone, this challenge is serious and very similar to those you will encounter in real life."
   ]
  },
  {
   "cell_type": "markdown",
   "id": "b3e08e18",
   "metadata": {},
   "source": [
    "# Import necessary libraries"
   ]
  },
  {
   "cell_type": "code",
   "execution_count": 1,
   "id": "cd345ce5",
   "metadata": {},
   "outputs": [],
   "source": [
    "import pandas as pd\n",
    "import numpy as np\n",
    "import seaborn as sns\n",
    "import matplotlib\n",
    "import matplotlib.pyplot as plt\n",
    "\n",
    "# Sklearn\n",
    "from sklearn import linear_model\n",
    "from sklearn.metrics import r2_score\n",
    "from sklearn.metrics import mean_squared_error\n",
    "from sklearn.metrics import mean_absolute_error, r2_score\n",
    "from sklearn.linear_model import SGDRegressor\n",
    "from sklearn.model_selection import train_test_split\n",
    "from sklearn.preprocessing import MinMaxScaler\n",
    "from sklearn.preprocessing import OneHotEncoder\n",
    "from sklearn.linear_model import LinearRegression \n",
    "from sklearn.tree import DecisionTreeRegressor\n",
    "from sklearn.neighbors import KNeighborsRegressor\n",
    "from sklearn.svm import SVR\n",
    "from sklearn.neural_network import MLPRegressor\n",
    "from sklearn.ensemble import RandomForestRegressor\n",
    "from sklearn.preprocessing import StandardScaler\n",
    "\n",
    "\n",
    "from sklearn.ensemble import RandomForestClassifier\n",
    "from sklearn.tree import DecisionTreeClassifier\n",
    "from sklearn.model_selection import cross_val_score\n",
    "from sklearn.linear_model import LogisticRegression\n",
    "from sklearn.metrics import precision_score\n",
    "from sklearn.metrics import recall_score\n",
    "from sklearn.metrics import f1_score \n",
    "from sklearn.metrics import accuracy_score\n",
    "from sklearn.metrics import confusion_matrix\n",
    "from sklearn.metrics import plot_confusion_matrix\n",
    "from sklearn.utils import resample\n",
    "\n",
    "# Max columns_rows\n",
    "pd.set_option('display.max_columns', 165)\n",
    "pd.set_option('display.max_rows', 165)"
   ]
  },
  {
   "cell_type": "markdown",
   "id": "e6b558bc",
   "metadata": {},
   "source": [
    "# Get data"
   ]
  },
  {
   "cell_type": "code",
   "execution_count": 2,
   "id": "b472c004",
   "metadata": {},
   "outputs": [],
   "source": [
    "data = pd.read_csv('measurements.csv')"
   ]
  },
  {
   "cell_type": "code",
   "execution_count": 3,
   "id": "0445be50",
   "metadata": {},
   "outputs": [
    {
     "data": {
      "text/html": [
       "<div>\n",
       "<style scoped>\n",
       "    .dataframe tbody tr th:only-of-type {\n",
       "        vertical-align: middle;\n",
       "    }\n",
       "\n",
       "    .dataframe tbody tr th {\n",
       "        vertical-align: top;\n",
       "    }\n",
       "\n",
       "    .dataframe thead th {\n",
       "        text-align: right;\n",
       "    }\n",
       "</style>\n",
       "<table border=\"1\" class=\"dataframe\">\n",
       "  <thead>\n",
       "    <tr style=\"text-align: right;\">\n",
       "      <th></th>\n",
       "      <th>distance</th>\n",
       "      <th>consume</th>\n",
       "      <th>speed</th>\n",
       "      <th>temp_inside</th>\n",
       "      <th>temp_outside</th>\n",
       "      <th>specials</th>\n",
       "      <th>gas_type</th>\n",
       "      <th>AC</th>\n",
       "      <th>rain</th>\n",
       "      <th>sun</th>\n",
       "      <th>refill liters</th>\n",
       "      <th>refill gas</th>\n",
       "    </tr>\n",
       "  </thead>\n",
       "  <tbody>\n",
       "    <tr>\n",
       "      <th>0</th>\n",
       "      <td>28</td>\n",
       "      <td>5</td>\n",
       "      <td>26</td>\n",
       "      <td>21,5</td>\n",
       "      <td>12</td>\n",
       "      <td>NaN</td>\n",
       "      <td>E10</td>\n",
       "      <td>0</td>\n",
       "      <td>0</td>\n",
       "      <td>0</td>\n",
       "      <td>45</td>\n",
       "      <td>E10</td>\n",
       "    </tr>\n",
       "    <tr>\n",
       "      <th>1</th>\n",
       "      <td>12</td>\n",
       "      <td>4,2</td>\n",
       "      <td>30</td>\n",
       "      <td>21,5</td>\n",
       "      <td>13</td>\n",
       "      <td>NaN</td>\n",
       "      <td>E10</td>\n",
       "      <td>0</td>\n",
       "      <td>0</td>\n",
       "      <td>0</td>\n",
       "      <td>NaN</td>\n",
       "      <td>NaN</td>\n",
       "    </tr>\n",
       "    <tr>\n",
       "      <th>2</th>\n",
       "      <td>11,2</td>\n",
       "      <td>5,5</td>\n",
       "      <td>38</td>\n",
       "      <td>21,5</td>\n",
       "      <td>15</td>\n",
       "      <td>NaN</td>\n",
       "      <td>E10</td>\n",
       "      <td>0</td>\n",
       "      <td>0</td>\n",
       "      <td>0</td>\n",
       "      <td>NaN</td>\n",
       "      <td>NaN</td>\n",
       "    </tr>\n",
       "    <tr>\n",
       "      <th>3</th>\n",
       "      <td>12,9</td>\n",
       "      <td>3,9</td>\n",
       "      <td>36</td>\n",
       "      <td>21,5</td>\n",
       "      <td>14</td>\n",
       "      <td>NaN</td>\n",
       "      <td>E10</td>\n",
       "      <td>0</td>\n",
       "      <td>0</td>\n",
       "      <td>0</td>\n",
       "      <td>NaN</td>\n",
       "      <td>NaN</td>\n",
       "    </tr>\n",
       "    <tr>\n",
       "      <th>4</th>\n",
       "      <td>18,5</td>\n",
       "      <td>4,5</td>\n",
       "      <td>46</td>\n",
       "      <td>21,5</td>\n",
       "      <td>15</td>\n",
       "      <td>NaN</td>\n",
       "      <td>E10</td>\n",
       "      <td>0</td>\n",
       "      <td>0</td>\n",
       "      <td>0</td>\n",
       "      <td>NaN</td>\n",
       "      <td>NaN</td>\n",
       "    </tr>\n",
       "    <tr>\n",
       "      <th>...</th>\n",
       "      <td>...</td>\n",
       "      <td>...</td>\n",
       "      <td>...</td>\n",
       "      <td>...</td>\n",
       "      <td>...</td>\n",
       "      <td>...</td>\n",
       "      <td>...</td>\n",
       "      <td>...</td>\n",
       "      <td>...</td>\n",
       "      <td>...</td>\n",
       "      <td>...</td>\n",
       "      <td>...</td>\n",
       "    </tr>\n",
       "    <tr>\n",
       "      <th>383</th>\n",
       "      <td>16</td>\n",
       "      <td>3,7</td>\n",
       "      <td>39</td>\n",
       "      <td>24,5</td>\n",
       "      <td>18</td>\n",
       "      <td>NaN</td>\n",
       "      <td>SP98</td>\n",
       "      <td>0</td>\n",
       "      <td>0</td>\n",
       "      <td>0</td>\n",
       "      <td>NaN</td>\n",
       "      <td>NaN</td>\n",
       "    </tr>\n",
       "    <tr>\n",
       "      <th>384</th>\n",
       "      <td>16,1</td>\n",
       "      <td>4,3</td>\n",
       "      <td>38</td>\n",
       "      <td>25</td>\n",
       "      <td>31</td>\n",
       "      <td>AC</td>\n",
       "      <td>SP98</td>\n",
       "      <td>1</td>\n",
       "      <td>0</td>\n",
       "      <td>0</td>\n",
       "      <td>NaN</td>\n",
       "      <td>NaN</td>\n",
       "    </tr>\n",
       "    <tr>\n",
       "      <th>385</th>\n",
       "      <td>16</td>\n",
       "      <td>3,8</td>\n",
       "      <td>45</td>\n",
       "      <td>25</td>\n",
       "      <td>19</td>\n",
       "      <td>NaN</td>\n",
       "      <td>SP98</td>\n",
       "      <td>0</td>\n",
       "      <td>0</td>\n",
       "      <td>0</td>\n",
       "      <td>NaN</td>\n",
       "      <td>NaN</td>\n",
       "    </tr>\n",
       "    <tr>\n",
       "      <th>386</th>\n",
       "      <td>15,4</td>\n",
       "      <td>4,6</td>\n",
       "      <td>42</td>\n",
       "      <td>25</td>\n",
       "      <td>31</td>\n",
       "      <td>AC</td>\n",
       "      <td>SP98</td>\n",
       "      <td>1</td>\n",
       "      <td>0</td>\n",
       "      <td>0</td>\n",
       "      <td>NaN</td>\n",
       "      <td>NaN</td>\n",
       "    </tr>\n",
       "    <tr>\n",
       "      <th>387</th>\n",
       "      <td>14,7</td>\n",
       "      <td>5</td>\n",
       "      <td>25</td>\n",
       "      <td>25</td>\n",
       "      <td>30</td>\n",
       "      <td>AC</td>\n",
       "      <td>SP98</td>\n",
       "      <td>1</td>\n",
       "      <td>0</td>\n",
       "      <td>0</td>\n",
       "      <td>NaN</td>\n",
       "      <td>NaN</td>\n",
       "    </tr>\n",
       "  </tbody>\n",
       "</table>\n",
       "<p>388 rows × 12 columns</p>\n",
       "</div>"
      ],
      "text/plain": [
       "    distance consume  speed temp_inside  temp_outside specials gas_type  AC  \\\n",
       "0         28       5     26        21,5            12      NaN      E10   0   \n",
       "1         12     4,2     30        21,5            13      NaN      E10   0   \n",
       "2       11,2     5,5     38        21,5            15      NaN      E10   0   \n",
       "3       12,9     3,9     36        21,5            14      NaN      E10   0   \n",
       "4       18,5     4,5     46        21,5            15      NaN      E10   0   \n",
       "..       ...     ...    ...         ...           ...      ...      ...  ..   \n",
       "383       16     3,7     39        24,5            18      NaN     SP98   0   \n",
       "384     16,1     4,3     38          25            31       AC     SP98   1   \n",
       "385       16     3,8     45          25            19      NaN     SP98   0   \n",
       "386     15,4     4,6     42          25            31       AC     SP98   1   \n",
       "387     14,7       5     25          25            30       AC     SP98   1   \n",
       "\n",
       "     rain  sun refill liters refill gas  \n",
       "0       0    0            45        E10  \n",
       "1       0    0           NaN        NaN  \n",
       "2       0    0           NaN        NaN  \n",
       "3       0    0           NaN        NaN  \n",
       "4       0    0           NaN        NaN  \n",
       "..    ...  ...           ...        ...  \n",
       "383     0    0           NaN        NaN  \n",
       "384     0    0           NaN        NaN  \n",
       "385     0    0           NaN        NaN  \n",
       "386     0    0           NaN        NaN  \n",
       "387     0    0           NaN        NaN  \n",
       "\n",
       "[388 rows x 12 columns]"
      ]
     },
     "execution_count": 3,
     "metadata": {},
     "output_type": "execute_result"
    }
   ],
   "source": [
    "data"
   ]
  },
  {
   "cell_type": "code",
   "execution_count": 4,
   "id": "569470bc",
   "metadata": {},
   "outputs": [],
   "source": [
    "data_2 = pd.read_excel('measurements2.xlsx')"
   ]
  },
  {
   "cell_type": "code",
   "execution_count": 5,
   "id": "c4a800d9",
   "metadata": {
    "scrolled": true
   },
   "outputs": [
    {
     "data": {
      "text/html": [
       "<div>\n",
       "<style scoped>\n",
       "    .dataframe tbody tr th:only-of-type {\n",
       "        vertical-align: middle;\n",
       "    }\n",
       "\n",
       "    .dataframe tbody tr th {\n",
       "        vertical-align: top;\n",
       "    }\n",
       "\n",
       "    .dataframe thead th {\n",
       "        text-align: right;\n",
       "    }\n",
       "</style>\n",
       "<table border=\"1\" class=\"dataframe\">\n",
       "  <thead>\n",
       "    <tr style=\"text-align: right;\">\n",
       "      <th></th>\n",
       "      <th>distance</th>\n",
       "      <th>consume</th>\n",
       "      <th>speed</th>\n",
       "      <th>temp_inside</th>\n",
       "      <th>temp_outside</th>\n",
       "      <th>specials</th>\n",
       "      <th>gas_type</th>\n",
       "      <th>AC</th>\n",
       "      <th>rain</th>\n",
       "      <th>sun</th>\n",
       "      <th>refill liters</th>\n",
       "      <th>refill gas</th>\n",
       "    </tr>\n",
       "  </thead>\n",
       "  <tbody>\n",
       "    <tr>\n",
       "      <th>0</th>\n",
       "      <td>28.0</td>\n",
       "      <td>5.0</td>\n",
       "      <td>26</td>\n",
       "      <td>21.5</td>\n",
       "      <td>12</td>\n",
       "      <td>NaN</td>\n",
       "      <td>E10</td>\n",
       "      <td>0</td>\n",
       "      <td>0</td>\n",
       "      <td>0</td>\n",
       "      <td>45.0</td>\n",
       "      <td>E10</td>\n",
       "    </tr>\n",
       "    <tr>\n",
       "      <th>1</th>\n",
       "      <td>12.0</td>\n",
       "      <td>4.2</td>\n",
       "      <td>30</td>\n",
       "      <td>21.5</td>\n",
       "      <td>13</td>\n",
       "      <td>NaN</td>\n",
       "      <td>E10</td>\n",
       "      <td>0</td>\n",
       "      <td>0</td>\n",
       "      <td>0</td>\n",
       "      <td>NaN</td>\n",
       "      <td>NaN</td>\n",
       "    </tr>\n",
       "    <tr>\n",
       "      <th>2</th>\n",
       "      <td>11.2</td>\n",
       "      <td>5.5</td>\n",
       "      <td>38</td>\n",
       "      <td>21.5</td>\n",
       "      <td>15</td>\n",
       "      <td>NaN</td>\n",
       "      <td>E10</td>\n",
       "      <td>0</td>\n",
       "      <td>0</td>\n",
       "      <td>0</td>\n",
       "      <td>NaN</td>\n",
       "      <td>NaN</td>\n",
       "    </tr>\n",
       "    <tr>\n",
       "      <th>3</th>\n",
       "      <td>12.9</td>\n",
       "      <td>3.9</td>\n",
       "      <td>36</td>\n",
       "      <td>21.5</td>\n",
       "      <td>14</td>\n",
       "      <td>NaN</td>\n",
       "      <td>E10</td>\n",
       "      <td>0</td>\n",
       "      <td>0</td>\n",
       "      <td>0</td>\n",
       "      <td>NaN</td>\n",
       "      <td>NaN</td>\n",
       "    </tr>\n",
       "    <tr>\n",
       "      <th>4</th>\n",
       "      <td>18.5</td>\n",
       "      <td>4.5</td>\n",
       "      <td>46</td>\n",
       "      <td>21.5</td>\n",
       "      <td>15</td>\n",
       "      <td>NaN</td>\n",
       "      <td>E10</td>\n",
       "      <td>0</td>\n",
       "      <td>0</td>\n",
       "      <td>0</td>\n",
       "      <td>NaN</td>\n",
       "      <td>NaN</td>\n",
       "    </tr>\n",
       "    <tr>\n",
       "      <th>...</th>\n",
       "      <td>...</td>\n",
       "      <td>...</td>\n",
       "      <td>...</td>\n",
       "      <td>...</td>\n",
       "      <td>...</td>\n",
       "      <td>...</td>\n",
       "      <td>...</td>\n",
       "      <td>...</td>\n",
       "      <td>...</td>\n",
       "      <td>...</td>\n",
       "      <td>...</td>\n",
       "      <td>...</td>\n",
       "    </tr>\n",
       "    <tr>\n",
       "      <th>383</th>\n",
       "      <td>16.0</td>\n",
       "      <td>3.7</td>\n",
       "      <td>39</td>\n",
       "      <td>24.5</td>\n",
       "      <td>18</td>\n",
       "      <td>NaN</td>\n",
       "      <td>SP98</td>\n",
       "      <td>0</td>\n",
       "      <td>0</td>\n",
       "      <td>0</td>\n",
       "      <td>NaN</td>\n",
       "      <td>NaN</td>\n",
       "    </tr>\n",
       "    <tr>\n",
       "      <th>384</th>\n",
       "      <td>16.1</td>\n",
       "      <td>4.3</td>\n",
       "      <td>38</td>\n",
       "      <td>25.0</td>\n",
       "      <td>31</td>\n",
       "      <td>AC</td>\n",
       "      <td>SP98</td>\n",
       "      <td>1</td>\n",
       "      <td>0</td>\n",
       "      <td>0</td>\n",
       "      <td>NaN</td>\n",
       "      <td>NaN</td>\n",
       "    </tr>\n",
       "    <tr>\n",
       "      <th>385</th>\n",
       "      <td>16.0</td>\n",
       "      <td>3.8</td>\n",
       "      <td>45</td>\n",
       "      <td>25.0</td>\n",
       "      <td>19</td>\n",
       "      <td>NaN</td>\n",
       "      <td>SP98</td>\n",
       "      <td>0</td>\n",
       "      <td>0</td>\n",
       "      <td>0</td>\n",
       "      <td>NaN</td>\n",
       "      <td>NaN</td>\n",
       "    </tr>\n",
       "    <tr>\n",
       "      <th>386</th>\n",
       "      <td>15.4</td>\n",
       "      <td>4.6</td>\n",
       "      <td>42</td>\n",
       "      <td>25.0</td>\n",
       "      <td>31</td>\n",
       "      <td>AC</td>\n",
       "      <td>SP98</td>\n",
       "      <td>1</td>\n",
       "      <td>0</td>\n",
       "      <td>0</td>\n",
       "      <td>NaN</td>\n",
       "      <td>NaN</td>\n",
       "    </tr>\n",
       "    <tr>\n",
       "      <th>387</th>\n",
       "      <td>14.7</td>\n",
       "      <td>5.0</td>\n",
       "      <td>25</td>\n",
       "      <td>25.0</td>\n",
       "      <td>30</td>\n",
       "      <td>AC</td>\n",
       "      <td>SP98</td>\n",
       "      <td>1</td>\n",
       "      <td>0</td>\n",
       "      <td>0</td>\n",
       "      <td>NaN</td>\n",
       "      <td>NaN</td>\n",
       "    </tr>\n",
       "  </tbody>\n",
       "</table>\n",
       "<p>388 rows × 12 columns</p>\n",
       "</div>"
      ],
      "text/plain": [
       "     distance  consume  speed  temp_inside  temp_outside specials gas_type  \\\n",
       "0        28.0      5.0     26         21.5            12      NaN      E10   \n",
       "1        12.0      4.2     30         21.5            13      NaN      E10   \n",
       "2        11.2      5.5     38         21.5            15      NaN      E10   \n",
       "3        12.9      3.9     36         21.5            14      NaN      E10   \n",
       "4        18.5      4.5     46         21.5            15      NaN      E10   \n",
       "..        ...      ...    ...          ...           ...      ...      ...   \n",
       "383      16.0      3.7     39         24.5            18      NaN     SP98   \n",
       "384      16.1      4.3     38         25.0            31       AC     SP98   \n",
       "385      16.0      3.8     45         25.0            19      NaN     SP98   \n",
       "386      15.4      4.6     42         25.0            31       AC     SP98   \n",
       "387      14.7      5.0     25         25.0            30       AC     SP98   \n",
       "\n",
       "     AC  rain  sun  refill liters refill gas  \n",
       "0     0     0    0           45.0        E10  \n",
       "1     0     0    0            NaN        NaN  \n",
       "2     0     0    0            NaN        NaN  \n",
       "3     0     0    0            NaN        NaN  \n",
       "4     0     0    0            NaN        NaN  \n",
       "..   ..   ...  ...            ...        ...  \n",
       "383   0     0    0            NaN        NaN  \n",
       "384   1     0    0            NaN        NaN  \n",
       "385   0     0    0            NaN        NaN  \n",
       "386   1     0    0            NaN        NaN  \n",
       "387   1     0    0            NaN        NaN  \n",
       "\n",
       "[388 rows x 12 columns]"
      ]
     },
     "execution_count": 5,
     "metadata": {},
     "output_type": "execute_result"
    }
   ],
   "source": [
    "data_2"
   ]
  },
  {
   "cell_type": "markdown",
   "id": "6652deeb",
   "metadata": {},
   "source": [
    "# Exploratory data analysis (EDA)"
   ]
  },
  {
   "cell_type": "code",
   "execution_count": 6,
   "id": "1530bfee",
   "metadata": {},
   "outputs": [
    {
     "data": {
      "text/plain": [
       "(388, 12)"
      ]
     },
     "execution_count": 6,
     "metadata": {},
     "output_type": "execute_result"
    }
   ],
   "source": [
    "data.shape"
   ]
  },
  {
   "cell_type": "code",
   "execution_count": 7,
   "id": "7de1494b",
   "metadata": {},
   "outputs": [
    {
     "name": "stdout",
     "output_type": "stream",
     "text": [
      "<class 'pandas.core.frame.DataFrame'>\n",
      "RangeIndex: 388 entries, 0 to 387\n",
      "Data columns (total 12 columns):\n",
      " #   Column         Non-Null Count  Dtype \n",
      "---  ------         --------------  ----- \n",
      " 0   distance       388 non-null    object\n",
      " 1   consume        388 non-null    object\n",
      " 2   speed          388 non-null    int64 \n",
      " 3   temp_inside    376 non-null    object\n",
      " 4   temp_outside   388 non-null    int64 \n",
      " 5   specials       93 non-null     object\n",
      " 6   gas_type       388 non-null    object\n",
      " 7   AC             388 non-null    int64 \n",
      " 8   rain           388 non-null    int64 \n",
      " 9   sun            388 non-null    int64 \n",
      " 10  refill liters  13 non-null     object\n",
      " 11  refill gas     13 non-null     object\n",
      "dtypes: int64(5), object(7)\n",
      "memory usage: 36.5+ KB\n"
     ]
    }
   ],
   "source": [
    "data.info()"
   ]
  },
  {
   "cell_type": "code",
   "execution_count": 8,
   "id": "91a47c95",
   "metadata": {},
   "outputs": [
    {
     "name": "stdout",
     "output_type": "stream",
     "text": [
      "<class 'pandas.core.frame.DataFrame'>\n",
      "RangeIndex: 388 entries, 0 to 387\n",
      "Data columns (total 12 columns):\n",
      " #   Column         Non-Null Count  Dtype  \n",
      "---  ------         --------------  -----  \n",
      " 0   distance       388 non-null    float64\n",
      " 1   consume        388 non-null    float64\n",
      " 2   speed          388 non-null    int64  \n",
      " 3   temp_inside    376 non-null    float64\n",
      " 4   temp_outside   388 non-null    int64  \n",
      " 5   specials       93 non-null     object \n",
      " 6   gas_type       388 non-null    object \n",
      " 7   AC             388 non-null    int64  \n",
      " 8   rain           388 non-null    int64  \n",
      " 9   sun            388 non-null    int64  \n",
      " 10  refill liters  13 non-null     float64\n",
      " 11  refill gas     13 non-null     object \n",
      "dtypes: float64(4), int64(5), object(3)\n",
      "memory usage: 36.5+ KB\n"
     ]
    }
   ],
   "source": [
    "data_2.info()"
   ]
  },
  {
   "cell_type": "code",
   "execution_count": 9,
   "id": "b92e8b26",
   "metadata": {},
   "outputs": [
    {
     "data": {
      "text/html": [
       "<div>\n",
       "<style scoped>\n",
       "    .dataframe tbody tr th:only-of-type {\n",
       "        vertical-align: middle;\n",
       "    }\n",
       "\n",
       "    .dataframe tbody tr th {\n",
       "        vertical-align: top;\n",
       "    }\n",
       "\n",
       "    .dataframe thead th {\n",
       "        text-align: right;\n",
       "    }\n",
       "</style>\n",
       "<table border=\"1\" class=\"dataframe\">\n",
       "  <thead>\n",
       "    <tr style=\"text-align: right;\">\n",
       "      <th></th>\n",
       "      <th>distance</th>\n",
       "      <th>consume</th>\n",
       "      <th>speed</th>\n",
       "      <th>temp_inside</th>\n",
       "      <th>temp_outside</th>\n",
       "      <th>AC</th>\n",
       "      <th>rain</th>\n",
       "      <th>sun</th>\n",
       "      <th>refill liters</th>\n",
       "    </tr>\n",
       "  </thead>\n",
       "  <tbody>\n",
       "    <tr>\n",
       "      <th>count</th>\n",
       "      <td>388.000000</td>\n",
       "      <td>388.000000</td>\n",
       "      <td>388.000000</td>\n",
       "      <td>376.000000</td>\n",
       "      <td>388.000000</td>\n",
       "      <td>388.000000</td>\n",
       "      <td>388.000000</td>\n",
       "      <td>388.000000</td>\n",
       "      <td>13.000000</td>\n",
       "    </tr>\n",
       "    <tr>\n",
       "      <th>mean</th>\n",
       "      <td>19.652835</td>\n",
       "      <td>4.912371</td>\n",
       "      <td>41.927835</td>\n",
       "      <td>21.929521</td>\n",
       "      <td>11.358247</td>\n",
       "      <td>0.077320</td>\n",
       "      <td>0.123711</td>\n",
       "      <td>0.082474</td>\n",
       "      <td>37.115385</td>\n",
       "    </tr>\n",
       "    <tr>\n",
       "      <th>std</th>\n",
       "      <td>22.667837</td>\n",
       "      <td>1.033172</td>\n",
       "      <td>13.598524</td>\n",
       "      <td>1.010455</td>\n",
       "      <td>6.991542</td>\n",
       "      <td>0.267443</td>\n",
       "      <td>0.329677</td>\n",
       "      <td>0.275441</td>\n",
       "      <td>8.587282</td>\n",
       "    </tr>\n",
       "    <tr>\n",
       "      <th>min</th>\n",
       "      <td>1.300000</td>\n",
       "      <td>3.300000</td>\n",
       "      <td>14.000000</td>\n",
       "      <td>19.000000</td>\n",
       "      <td>-5.000000</td>\n",
       "      <td>0.000000</td>\n",
       "      <td>0.000000</td>\n",
       "      <td>0.000000</td>\n",
       "      <td>10.000000</td>\n",
       "    </tr>\n",
       "    <tr>\n",
       "      <th>25%</th>\n",
       "      <td>11.800000</td>\n",
       "      <td>4.300000</td>\n",
       "      <td>32.750000</td>\n",
       "      <td>21.500000</td>\n",
       "      <td>7.000000</td>\n",
       "      <td>0.000000</td>\n",
       "      <td>0.000000</td>\n",
       "      <td>0.000000</td>\n",
       "      <td>37.600000</td>\n",
       "    </tr>\n",
       "    <tr>\n",
       "      <th>50%</th>\n",
       "      <td>14.600000</td>\n",
       "      <td>4.700000</td>\n",
       "      <td>40.500000</td>\n",
       "      <td>22.000000</td>\n",
       "      <td>10.000000</td>\n",
       "      <td>0.000000</td>\n",
       "      <td>0.000000</td>\n",
       "      <td>0.000000</td>\n",
       "      <td>38.000000</td>\n",
       "    </tr>\n",
       "    <tr>\n",
       "      <th>75%</th>\n",
       "      <td>19.000000</td>\n",
       "      <td>5.300000</td>\n",
       "      <td>50.000000</td>\n",
       "      <td>22.500000</td>\n",
       "      <td>16.000000</td>\n",
       "      <td>0.000000</td>\n",
       "      <td>0.000000</td>\n",
       "      <td>0.000000</td>\n",
       "      <td>39.000000</td>\n",
       "    </tr>\n",
       "    <tr>\n",
       "      <th>max</th>\n",
       "      <td>216.100000</td>\n",
       "      <td>12.200000</td>\n",
       "      <td>90.000000</td>\n",
       "      <td>25.500000</td>\n",
       "      <td>31.000000</td>\n",
       "      <td>1.000000</td>\n",
       "      <td>1.000000</td>\n",
       "      <td>1.000000</td>\n",
       "      <td>45.000000</td>\n",
       "    </tr>\n",
       "  </tbody>\n",
       "</table>\n",
       "</div>"
      ],
      "text/plain": [
       "         distance     consume       speed  temp_inside  temp_outside  \\\n",
       "count  388.000000  388.000000  388.000000   376.000000    388.000000   \n",
       "mean    19.652835    4.912371   41.927835    21.929521     11.358247   \n",
       "std     22.667837    1.033172   13.598524     1.010455      6.991542   \n",
       "min      1.300000    3.300000   14.000000    19.000000     -5.000000   \n",
       "25%     11.800000    4.300000   32.750000    21.500000      7.000000   \n",
       "50%     14.600000    4.700000   40.500000    22.000000     10.000000   \n",
       "75%     19.000000    5.300000   50.000000    22.500000     16.000000   \n",
       "max    216.100000   12.200000   90.000000    25.500000     31.000000   \n",
       "\n",
       "               AC        rain         sun  refill liters  \n",
       "count  388.000000  388.000000  388.000000      13.000000  \n",
       "mean     0.077320    0.123711    0.082474      37.115385  \n",
       "std      0.267443    0.329677    0.275441       8.587282  \n",
       "min      0.000000    0.000000    0.000000      10.000000  \n",
       "25%      0.000000    0.000000    0.000000      37.600000  \n",
       "50%      0.000000    0.000000    0.000000      38.000000  \n",
       "75%      0.000000    0.000000    0.000000      39.000000  \n",
       "max      1.000000    1.000000    1.000000      45.000000  "
      ]
     },
     "execution_count": 9,
     "metadata": {},
     "output_type": "execute_result"
    }
   ],
   "source": [
    "data_2.describe()"
   ]
  },
  {
   "cell_type": "code",
   "execution_count": 10,
   "id": "e6374327",
   "metadata": {},
   "outputs": [
    {
     "data": {
      "text/html": [
       "<div>\n",
       "<style scoped>\n",
       "    .dataframe tbody tr th:only-of-type {\n",
       "        vertical-align: middle;\n",
       "    }\n",
       "\n",
       "    .dataframe tbody tr th {\n",
       "        vertical-align: top;\n",
       "    }\n",
       "\n",
       "    .dataframe thead th {\n",
       "        text-align: right;\n",
       "    }\n",
       "</style>\n",
       "<table border=\"1\" class=\"dataframe\">\n",
       "  <thead>\n",
       "    <tr style=\"text-align: right;\">\n",
       "      <th></th>\n",
       "      <th>column_name</th>\n",
       "      <th>nulls_percentage</th>\n",
       "    </tr>\n",
       "  </thead>\n",
       "  <tbody>\n",
       "    <tr>\n",
       "      <th>0</th>\n",
       "      <td>distance</td>\n",
       "      <td>0.000000</td>\n",
       "    </tr>\n",
       "    <tr>\n",
       "      <th>1</th>\n",
       "      <td>consume</td>\n",
       "      <td>0.000000</td>\n",
       "    </tr>\n",
       "    <tr>\n",
       "      <th>2</th>\n",
       "      <td>speed</td>\n",
       "      <td>0.000000</td>\n",
       "    </tr>\n",
       "    <tr>\n",
       "      <th>3</th>\n",
       "      <td>temp_inside</td>\n",
       "      <td>0.030928</td>\n",
       "    </tr>\n",
       "    <tr>\n",
       "      <th>4</th>\n",
       "      <td>temp_outside</td>\n",
       "      <td>0.000000</td>\n",
       "    </tr>\n",
       "    <tr>\n",
       "      <th>5</th>\n",
       "      <td>specials</td>\n",
       "      <td>0.760309</td>\n",
       "    </tr>\n",
       "    <tr>\n",
       "      <th>6</th>\n",
       "      <td>gas_type</td>\n",
       "      <td>0.000000</td>\n",
       "    </tr>\n",
       "    <tr>\n",
       "      <th>7</th>\n",
       "      <td>AC</td>\n",
       "      <td>0.000000</td>\n",
       "    </tr>\n",
       "    <tr>\n",
       "      <th>8</th>\n",
       "      <td>rain</td>\n",
       "      <td>0.000000</td>\n",
       "    </tr>\n",
       "    <tr>\n",
       "      <th>9</th>\n",
       "      <td>sun</td>\n",
       "      <td>0.000000</td>\n",
       "    </tr>\n",
       "    <tr>\n",
       "      <th>10</th>\n",
       "      <td>refill liters</td>\n",
       "      <td>0.966495</td>\n",
       "    </tr>\n",
       "    <tr>\n",
       "      <th>11</th>\n",
       "      <td>refill gas</td>\n",
       "      <td>0.966495</td>\n",
       "    </tr>\n",
       "  </tbody>\n",
       "</table>\n",
       "</div>"
      ],
      "text/plain": [
       "      column_name  nulls_percentage\n",
       "0        distance          0.000000\n",
       "1         consume          0.000000\n",
       "2           speed          0.000000\n",
       "3     temp_inside          0.030928\n",
       "4    temp_outside          0.000000\n",
       "5        specials          0.760309\n",
       "6        gas_type          0.000000\n",
       "7              AC          0.000000\n",
       "8            rain          0.000000\n",
       "9             sun          0.000000\n",
       "10  refill liters          0.966495\n",
       "11     refill gas          0.966495"
      ]
     },
     "execution_count": 10,
     "metadata": {},
     "output_type": "execute_result"
    }
   ],
   "source": [
    "# fraction of null values\n",
    "nulls_percent_df = pd.DataFrame(data_2.isna().sum()/len(data_2)).reset_index()\n",
    "nulls_percent_df.columns = ['column_name', 'nulls_percentage']\n",
    "nulls_percent_df"
   ]
  },
  {
   "cell_type": "code",
   "execution_count": 11,
   "id": "ad60abd1",
   "metadata": {},
   "outputs": [
    {
     "data": {
      "text/plain": [
       "5          specials\n",
       "10    refill liters\n",
       "11       refill gas\n",
       "Name: column_name, dtype: object"
      ]
     },
     "execution_count": 11,
     "metadata": {},
     "output_type": "execute_result"
    }
   ],
   "source": [
    "# columns with null values more than 75%\n",
    "columns_above_threshold = nulls_percent_df[nulls_percent_df['nulls_percentage']>0.75]\n",
    "columns_above_threshold['column_name']"
   ]
  },
  {
   "cell_type": "code",
   "execution_count": 12,
   "id": "966ae3ef",
   "metadata": {},
   "outputs": [
    {
     "name": "stdout",
     "output_type": "stream",
     "text": [
      "['specials', 'refill liters', 'refill gas']\n"
     ]
    }
   ],
   "source": [
    "# columns with null values more than 75%\n",
    "drop_columns_list = list(columns_above_threshold['column_name'])\n",
    "print(drop_columns_list)"
   ]
  },
  {
   "cell_type": "code",
   "execution_count": 13,
   "id": "a7254258",
   "metadata": {},
   "outputs": [
    {
     "data": {
      "text/plain": [
       "3"
      ]
     },
     "execution_count": 13,
     "metadata": {},
     "output_type": "execute_result"
    }
   ],
   "source": [
    "len(drop_columns_list)"
   ]
  },
  {
   "cell_type": "code",
   "execution_count": 14,
   "id": "60020794",
   "metadata": {},
   "outputs": [
    {
     "data": {
      "text/html": [
       "<div>\n",
       "<style scoped>\n",
       "    .dataframe tbody tr th:only-of-type {\n",
       "        vertical-align: middle;\n",
       "    }\n",
       "\n",
       "    .dataframe tbody tr th {\n",
       "        vertical-align: top;\n",
       "    }\n",
       "\n",
       "    .dataframe thead th {\n",
       "        text-align: right;\n",
       "    }\n",
       "</style>\n",
       "<table border=\"1\" class=\"dataframe\">\n",
       "  <thead>\n",
       "    <tr style=\"text-align: right;\">\n",
       "      <th></th>\n",
       "      <th>distance</th>\n",
       "      <th>consume</th>\n",
       "      <th>speed</th>\n",
       "      <th>temp_inside</th>\n",
       "      <th>temp_outside</th>\n",
       "      <th>gas_type</th>\n",
       "      <th>AC</th>\n",
       "      <th>rain</th>\n",
       "      <th>sun</th>\n",
       "    </tr>\n",
       "  </thead>\n",
       "  <tbody>\n",
       "    <tr>\n",
       "      <th>0</th>\n",
       "      <td>28.0</td>\n",
       "      <td>5.0</td>\n",
       "      <td>26</td>\n",
       "      <td>21.5</td>\n",
       "      <td>12</td>\n",
       "      <td>E10</td>\n",
       "      <td>0</td>\n",
       "      <td>0</td>\n",
       "      <td>0</td>\n",
       "    </tr>\n",
       "    <tr>\n",
       "      <th>1</th>\n",
       "      <td>12.0</td>\n",
       "      <td>4.2</td>\n",
       "      <td>30</td>\n",
       "      <td>21.5</td>\n",
       "      <td>13</td>\n",
       "      <td>E10</td>\n",
       "      <td>0</td>\n",
       "      <td>0</td>\n",
       "      <td>0</td>\n",
       "    </tr>\n",
       "    <tr>\n",
       "      <th>2</th>\n",
       "      <td>11.2</td>\n",
       "      <td>5.5</td>\n",
       "      <td>38</td>\n",
       "      <td>21.5</td>\n",
       "      <td>15</td>\n",
       "      <td>E10</td>\n",
       "      <td>0</td>\n",
       "      <td>0</td>\n",
       "      <td>0</td>\n",
       "    </tr>\n",
       "    <tr>\n",
       "      <th>3</th>\n",
       "      <td>12.9</td>\n",
       "      <td>3.9</td>\n",
       "      <td>36</td>\n",
       "      <td>21.5</td>\n",
       "      <td>14</td>\n",
       "      <td>E10</td>\n",
       "      <td>0</td>\n",
       "      <td>0</td>\n",
       "      <td>0</td>\n",
       "    </tr>\n",
       "    <tr>\n",
       "      <th>4</th>\n",
       "      <td>18.5</td>\n",
       "      <td>4.5</td>\n",
       "      <td>46</td>\n",
       "      <td>21.5</td>\n",
       "      <td>15</td>\n",
       "      <td>E10</td>\n",
       "      <td>0</td>\n",
       "      <td>0</td>\n",
       "      <td>0</td>\n",
       "    </tr>\n",
       "    <tr>\n",
       "      <th>...</th>\n",
       "      <td>...</td>\n",
       "      <td>...</td>\n",
       "      <td>...</td>\n",
       "      <td>...</td>\n",
       "      <td>...</td>\n",
       "      <td>...</td>\n",
       "      <td>...</td>\n",
       "      <td>...</td>\n",
       "      <td>...</td>\n",
       "    </tr>\n",
       "    <tr>\n",
       "      <th>383</th>\n",
       "      <td>16.0</td>\n",
       "      <td>3.7</td>\n",
       "      <td>39</td>\n",
       "      <td>24.5</td>\n",
       "      <td>18</td>\n",
       "      <td>SP98</td>\n",
       "      <td>0</td>\n",
       "      <td>0</td>\n",
       "      <td>0</td>\n",
       "    </tr>\n",
       "    <tr>\n",
       "      <th>384</th>\n",
       "      <td>16.1</td>\n",
       "      <td>4.3</td>\n",
       "      <td>38</td>\n",
       "      <td>25.0</td>\n",
       "      <td>31</td>\n",
       "      <td>SP98</td>\n",
       "      <td>1</td>\n",
       "      <td>0</td>\n",
       "      <td>0</td>\n",
       "    </tr>\n",
       "    <tr>\n",
       "      <th>385</th>\n",
       "      <td>16.0</td>\n",
       "      <td>3.8</td>\n",
       "      <td>45</td>\n",
       "      <td>25.0</td>\n",
       "      <td>19</td>\n",
       "      <td>SP98</td>\n",
       "      <td>0</td>\n",
       "      <td>0</td>\n",
       "      <td>0</td>\n",
       "    </tr>\n",
       "    <tr>\n",
       "      <th>386</th>\n",
       "      <td>15.4</td>\n",
       "      <td>4.6</td>\n",
       "      <td>42</td>\n",
       "      <td>25.0</td>\n",
       "      <td>31</td>\n",
       "      <td>SP98</td>\n",
       "      <td>1</td>\n",
       "      <td>0</td>\n",
       "      <td>0</td>\n",
       "    </tr>\n",
       "    <tr>\n",
       "      <th>387</th>\n",
       "      <td>14.7</td>\n",
       "      <td>5.0</td>\n",
       "      <td>25</td>\n",
       "      <td>25.0</td>\n",
       "      <td>30</td>\n",
       "      <td>SP98</td>\n",
       "      <td>1</td>\n",
       "      <td>0</td>\n",
       "      <td>0</td>\n",
       "    </tr>\n",
       "  </tbody>\n",
       "</table>\n",
       "<p>388 rows × 9 columns</p>\n",
       "</div>"
      ],
      "text/plain": [
       "     distance  consume  speed  temp_inside  temp_outside gas_type  AC  rain  \\\n",
       "0        28.0      5.0     26         21.5            12      E10   0     0   \n",
       "1        12.0      4.2     30         21.5            13      E10   0     0   \n",
       "2        11.2      5.5     38         21.5            15      E10   0     0   \n",
       "3        12.9      3.9     36         21.5            14      E10   0     0   \n",
       "4        18.5      4.5     46         21.5            15      E10   0     0   \n",
       "..        ...      ...    ...          ...           ...      ...  ..   ...   \n",
       "383      16.0      3.7     39         24.5            18     SP98   0     0   \n",
       "384      16.1      4.3     38         25.0            31     SP98   1     0   \n",
       "385      16.0      3.8     45         25.0            19     SP98   0     0   \n",
       "386      15.4      4.6     42         25.0            31     SP98   1     0   \n",
       "387      14.7      5.0     25         25.0            30     SP98   1     0   \n",
       "\n",
       "     sun  \n",
       "0      0  \n",
       "1      0  \n",
       "2      0  \n",
       "3      0  \n",
       "4      0  \n",
       "..   ...  \n",
       "383    0  \n",
       "384    0  \n",
       "385    0  \n",
       "386    0  \n",
       "387    0  \n",
       "\n",
       "[388 rows x 9 columns]"
      ]
     },
     "execution_count": 14,
     "metadata": {},
     "output_type": "execute_result"
    }
   ],
   "source": [
    "data_2 = data_2.drop(columns=drop_columns_list)\n",
    "data_2"
   ]
  },
  {
   "cell_type": "code",
   "execution_count": 15,
   "id": "73286543",
   "metadata": {},
   "outputs": [
    {
     "data": {
      "text/plain": [
       "distance        0.000000\n",
       "consume         0.000000\n",
       "speed           0.000000\n",
       "temp_inside     0.030928\n",
       "temp_outside    0.000000\n",
       "gas_type        0.000000\n",
       "AC              0.000000\n",
       "rain            0.000000\n",
       "sun             0.000000\n",
       "dtype: float64"
      ]
     },
     "execution_count": 15,
     "metadata": {},
     "output_type": "execute_result"
    }
   ],
   "source": [
    "data_2.isna().sum()/len(data_2)"
   ]
  },
  {
   "cell_type": "code",
   "execution_count": 16,
   "id": "5a94a424",
   "metadata": {},
   "outputs": [],
   "source": [
    "# replacement of null values with mean of the column\n",
    "data_2['temp_inside'] = data_2['temp_inside'].fillna(np.mean(data_2['temp_inside']))\n"
   ]
  },
  {
   "cell_type": "code",
   "execution_count": 17,
   "id": "cf4b46d0",
   "metadata": {},
   "outputs": [
    {
     "data": {
      "text/plain": [
       "distance        0.0\n",
       "consume         0.0\n",
       "speed           0.0\n",
       "temp_inside     0.0\n",
       "temp_outside    0.0\n",
       "gas_type        0.0\n",
       "AC              0.0\n",
       "rain            0.0\n",
       "sun             0.0\n",
       "dtype: float64"
      ]
     },
     "execution_count": 17,
     "metadata": {},
     "output_type": "execute_result"
    }
   ],
   "source": [
    "# we are done with the null values.\n",
    "data_2.isna().sum()/len(data_2)"
   ]
  },
  {
   "cell_type": "code",
   "execution_count": 18,
   "id": "6532cc55",
   "metadata": {},
   "outputs": [
    {
     "data": {
      "text/plain": [
       "Index(['distance', 'consume', 'speed', 'temp_inside', 'temp_outside',\n",
       "       'gas_type', 'AC', 'rain', 'sun'],\n",
       "      dtype='object')"
      ]
     },
     "execution_count": 18,
     "metadata": {},
     "output_type": "execute_result"
    }
   ],
   "source": [
    "# column names\n",
    "data_2.columns\n",
    "column_names = data_2.columns\n",
    "column_names"
   ]
  },
  {
   "cell_type": "code",
   "execution_count": 19,
   "id": "582cc5eb",
   "metadata": {
    "scrolled": true
   },
   "outputs": [
    {
     "data": {
      "text/html": [
       "<div>\n",
       "<style scoped>\n",
       "    .dataframe tbody tr th:only-of-type {\n",
       "        vertical-align: middle;\n",
       "    }\n",
       "\n",
       "    .dataframe tbody tr th {\n",
       "        vertical-align: top;\n",
       "    }\n",
       "\n",
       "    .dataframe thead th {\n",
       "        text-align: right;\n",
       "    }\n",
       "</style>\n",
       "<table border=\"1\" class=\"dataframe\">\n",
       "  <thead>\n",
       "    <tr style=\"text-align: right;\">\n",
       "      <th></th>\n",
       "      <th>distance</th>\n",
       "      <th>consume</th>\n",
       "      <th>speed</th>\n",
       "      <th>temp_inside</th>\n",
       "      <th>temp_outside</th>\n",
       "      <th>gas_type</th>\n",
       "      <th>ac</th>\n",
       "      <th>rain</th>\n",
       "      <th>sun</th>\n",
       "    </tr>\n",
       "  </thead>\n",
       "  <tbody>\n",
       "    <tr>\n",
       "      <th>0</th>\n",
       "      <td>28.0</td>\n",
       "      <td>5.0</td>\n",
       "      <td>26</td>\n",
       "      <td>21.5</td>\n",
       "      <td>12</td>\n",
       "      <td>E10</td>\n",
       "      <td>0</td>\n",
       "      <td>0</td>\n",
       "      <td>0</td>\n",
       "    </tr>\n",
       "    <tr>\n",
       "      <th>1</th>\n",
       "      <td>12.0</td>\n",
       "      <td>4.2</td>\n",
       "      <td>30</td>\n",
       "      <td>21.5</td>\n",
       "      <td>13</td>\n",
       "      <td>E10</td>\n",
       "      <td>0</td>\n",
       "      <td>0</td>\n",
       "      <td>0</td>\n",
       "    </tr>\n",
       "    <tr>\n",
       "      <th>2</th>\n",
       "      <td>11.2</td>\n",
       "      <td>5.5</td>\n",
       "      <td>38</td>\n",
       "      <td>21.5</td>\n",
       "      <td>15</td>\n",
       "      <td>E10</td>\n",
       "      <td>0</td>\n",
       "      <td>0</td>\n",
       "      <td>0</td>\n",
       "    </tr>\n",
       "    <tr>\n",
       "      <th>3</th>\n",
       "      <td>12.9</td>\n",
       "      <td>3.9</td>\n",
       "      <td>36</td>\n",
       "      <td>21.5</td>\n",
       "      <td>14</td>\n",
       "      <td>E10</td>\n",
       "      <td>0</td>\n",
       "      <td>0</td>\n",
       "      <td>0</td>\n",
       "    </tr>\n",
       "    <tr>\n",
       "      <th>4</th>\n",
       "      <td>18.5</td>\n",
       "      <td>4.5</td>\n",
       "      <td>46</td>\n",
       "      <td>21.5</td>\n",
       "      <td>15</td>\n",
       "      <td>E10</td>\n",
       "      <td>0</td>\n",
       "      <td>0</td>\n",
       "      <td>0</td>\n",
       "    </tr>\n",
       "  </tbody>\n",
       "</table>\n",
       "</div>"
      ],
      "text/plain": [
       "   distance  consume  speed  temp_inside  temp_outside gas_type  ac  rain  sun\n",
       "0      28.0      5.0     26         21.5            12      E10   0     0    0\n",
       "1      12.0      4.2     30         21.5            13      E10   0     0    0\n",
       "2      11.2      5.5     38         21.5            15      E10   0     0    0\n",
       "3      12.9      3.9     36         21.5            14      E10   0     0    0\n",
       "4      18.5      4.5     46         21.5            15      E10   0     0    0"
      ]
     },
     "execution_count": 19,
     "metadata": {},
     "output_type": "execute_result"
    }
   ],
   "source": [
    "# replace underscores in column titles\n",
    "cols = []\n",
    "for column in data_2.columns:\n",
    "    cols.append(column.lower().replace(' ','_'))\n",
    "cols\n",
    "data_2.columns = cols\n",
    "\n",
    "data_2.head()"
   ]
  },
  {
   "cell_type": "markdown",
   "id": "dcaa6a99",
   "metadata": {},
   "source": [
    "# Data Visualization"
   ]
  },
  {
   "cell_type": "code",
   "execution_count": 20,
   "id": "1898a3fb",
   "metadata": {},
   "outputs": [],
   "source": [
    "# break dataset into numericals and categoricals\n",
    "numerical = data_2.select_dtypes(include = np.number)\n",
    "categorical = data_2.select_dtypes(include = object)"
   ]
  },
  {
   "cell_type": "code",
   "execution_count": 21,
   "id": "f09a7c47",
   "metadata": {
    "scrolled": true
   },
   "outputs": [
    {
     "name": "stderr",
     "output_type": "stream",
     "text": [
      "/Users/ozguryildirim/opt/anaconda3/lib/python3.9/site-packages/seaborn/distributions.py:2619: FutureWarning: `distplot` is a deprecated function and will be removed in a future version. Please adapt your code to use either `displot` (a figure-level function with similar flexibility) or `histplot` (an axes-level function for histograms).\n",
      "  warnings.warn(msg, FutureWarning)\n"
     ]
    },
    {
     "data": {
      "image/png": "[encoded data removed]",
      "text/plain": [
       "<Figure size 432x288 with 1 Axes>"
      ]
     },
     "metadata": {
      "needs_background": "light"
     },
     "output_type": "display_data"
    },
    {
     "name": "stderr",
     "output_type": "stream",
     "text": [
      "/Users/ozguryildirim/opt/anaconda3/lib/python3.9/site-packages/seaborn/distributions.py:2619: FutureWarning: `distplot` is a deprecated function and will be removed in a future version. Please adapt your code to use either `displot` (a figure-level function with similar flexibility) or `histplot` (an axes-level function for histograms).\n",
      "  warnings.warn(msg, FutureWarning)\n"
     ]
    },
    {
     "data": {
      "image/png": "[encoded data removed]",
      "text/plain": [
       "<Figure size 432x288 with 1 Axes>"
      ]
     },
     "metadata": {
      "needs_background": "light"
     },
     "output_type": "display_data"
    },
    {
     "name": "stderr",
     "output_type": "stream",
     "text": [
      "/Users/ozguryildirim/opt/anaconda3/lib/python3.9/site-packages/seaborn/distributions.py:2619: FutureWarning: `distplot` is a deprecated function and will be removed in a future version. Please adapt your code to use either `displot` (a figure-level function with similar flexibility) or `histplot` (an axes-level function for histograms).\n",
      "  warnings.warn(msg, FutureWarning)\n"
     ]
    },
    {
     "data": {
      "image/png": "[encoded data removed]",
      "text/plain": [
       "<Figure size 432x288 with 1 Axes>"
      ]
     },
     "metadata": {
      "needs_background": "light"
     },
     "output_type": "display_data"
    },
    {
     "name": "stderr",
     "output_type": "stream",
     "text": [
      "/Users/ozguryildirim/opt/anaconda3/lib/python3.9/site-packages/seaborn/distributions.py:2619: FutureWarning: `distplot` is a deprecated function and will be removed in a future version. Please adapt your code to use either `displot` (a figure-level function with similar flexibility) or `histplot` (an axes-level function for histograms).\n",
      "  warnings.warn(msg, FutureWarning)\n"
     ]
    },
    {
     "data": {
      "image/png": "[encoded data removed]",
      "text/plain": [
       "<Figure size 432x288 with 1 Axes>"
      ]
     },
     "metadata": {
      "needs_background": "light"
     },
     "output_type": "display_data"
    },
    {
     "name": "stderr",
     "output_type": "stream",
     "text": [
      "/Users/ozguryildirim/opt/anaconda3/lib/python3.9/site-packages/seaborn/distributions.py:2619: FutureWarning: `distplot` is a deprecated function and will be removed in a future version. Please adapt your code to use either `displot` (a figure-level function with similar flexibility) or `histplot` (an axes-level function for histograms).\n",
      "  warnings.warn(msg, FutureWarning)\n"
     ]
    },
    {
     "data": {
      "image/png": "[encoded data removed]",
      "text/plain": [
       "<Figure size 432x288 with 1 Axes>"
      ]
     },
     "metadata": {
      "needs_background": "light"
     },
     "output_type": "display_data"
    },
    {
     "name": "stderr",
     "output_type": "stream",
     "text": [
      "/Users/ozguryildirim/opt/anaconda3/lib/python3.9/site-packages/seaborn/distributions.py:2619: FutureWarning: `distplot` is a deprecated function and will be removed in a future version. Please adapt your code to use either `displot` (a figure-level function with similar flexibility) or `histplot` (an axes-level function for histograms).\n",
      "  warnings.warn(msg, FutureWarning)\n"
     ]
    },
    {
     "data": {
      "image/png": "[encoded data removed]",
      "text/plain": [
       "<Figure size 432x288 with 1 Axes>"
      ]
     },
     "metadata": {
      "needs_background": "light"
     },
     "output_type": "display_data"
    },
    {
     "name": "stderr",
     "output_type": "stream",
     "text": [
      "/Users/ozguryildirim/opt/anaconda3/lib/python3.9/site-packages/seaborn/distributions.py:2619: FutureWarning: `distplot` is a deprecated function and will be removed in a future version. Please adapt your code to use either `displot` (a figure-level function with similar flexibility) or `histplot` (an axes-level function for histograms).\n",
      "  warnings.warn(msg, FutureWarning)\n"
     ]
    },
    {
     "data": {
      "image/png": "[encoded data removed]",
      "text/plain": [
       "<Figure size 432x288 with 1 Axes>"
      ]
     },
     "metadata": {
      "needs_background": "light"
     },
     "output_type": "display_data"
    },
    {
     "name": "stderr",
     "output_type": "stream",
     "text": [
      "/Users/ozguryildirim/opt/anaconda3/lib/python3.9/site-packages/seaborn/distributions.py:2619: FutureWarning: `distplot` is a deprecated function and will be removed in a future version. Please adapt your code to use either `displot` (a figure-level function with similar flexibility) or `histplot` (an axes-level function for histograms).\n",
      "  warnings.warn(msg, FutureWarning)\n"
     ]
    },
    {
     "data": {
      "image/png": "[encoded data removed]",
      "text/plain": [
       "<Figure size 432x288 with 1 Axes>"
      ]
     },
     "metadata": {
      "needs_background": "light"
     },
     "output_type": "display_data"
    }
   ],
   "source": [
    "def plot_num(df):\n",
    "    for col in df.columns:\n",
    "        sns.distplot(a=df[col])\n",
    "        plt.show()\n",
    "    return None\n",
    "\n",
    "plot_num(numerical)"
   ]
  },
  {
   "cell_type": "markdown",
   "id": "4f000172",
   "metadata": {},
   "source": [
    "# Checking / Removing outliers"
   ]
  },
  {
   "cell_type": "code",
   "execution_count": 22,
   "id": "71355820",
   "metadata": {},
   "outputs": [
    {
     "data": {
      "image/png": "[encoded data removed]",
      "text/plain": [
       "<Figure size 432x288 with 1 Axes>"
      ]
     },
     "metadata": {
      "needs_background": "light"
     },
     "output_type": "display_data"
    },
    {
     "data": {
      "image/png": "[encoded data removed]",
      "text/plain": [
       "<Figure size 432x288 with 1 Axes>"
      ]
     },
     "metadata": {
      "needs_background": "light"
     },
     "output_type": "display_data"
    },
    {
     "data": {
      "image/png": "[encoded data removed]",
      "text/plain": [
       "<Figure size 432x288 with 1 Axes>"
      ]
     },
     "metadata": {
      "needs_background": "light"
     },
     "output_type": "display_data"
    },
    {
     "data": {
      "image/png": "[encoded data removed]",
      "text/plain": [
       "<Figure size 432x288 with 1 Axes>"
      ]
     },
     "metadata": {
      "needs_background": "light"
     },
     "output_type": "display_data"
    },
    {
     "data": {
      "image/png": "[encoded data removed]",
      "text/plain": [
       "<Figure size 432x288 with 1 Axes>"
      ]
     },
     "metadata": {
      "needs_background": "light"
     },
     "output_type": "display_data"
    },
    {
     "data": {
      "image/png": "[encoded data removed]",
      "text/plain": [
       "<Figure size 432x288 with 1 Axes>"
      ]
     },
     "metadata": {
      "needs_background": "light"
     },
     "output_type": "display_data"
    },
    {
     "data": {
      "image/png": "[encoded data removed]",
      "text/plain": [
       "<Figure size 432x288 with 1 Axes>"
      ]
     },
     "metadata": {
      "needs_background": "light"
     },
     "output_type": "display_data"
    },
    {
     "data": {
      "image/png": "[encoded data removed]",
      "text/plain": [
       "<Figure size 432x288 with 1 Axes>"
      ]
     },
     "metadata": {
      "needs_background": "light"
     },
     "output_type": "display_data"
    }
   ],
   "source": [
    "def outlier(df):\n",
    "    for col in df.columns:\n",
    "        sns.boxplot(y=df[col])\n",
    "        plt.show()\n",
    "    return None\n",
    "\n",
    "outlier(numerical)"
   ]
  },
  {
   "cell_type": "code",
   "execution_count": 23,
   "id": "921996d3",
   "metadata": {},
   "outputs": [
    {
     "data": {
      "text/html": [
       "<div>\n",
       "<style scoped>\n",
       "    .dataframe tbody tr th:only-of-type {\n",
       "        vertical-align: middle;\n",
       "    }\n",
       "\n",
       "    .dataframe tbody tr th {\n",
       "        vertical-align: top;\n",
       "    }\n",
       "\n",
       "    .dataframe thead th {\n",
       "        text-align: right;\n",
       "    }\n",
       "</style>\n",
       "<table border=\"1\" class=\"dataframe\">\n",
       "  <thead>\n",
       "    <tr style=\"text-align: right;\">\n",
       "      <th></th>\n",
       "      <th>count</th>\n",
       "      <th>mean</th>\n",
       "      <th>std</th>\n",
       "      <th>min</th>\n",
       "      <th>25%</th>\n",
       "      <th>50%</th>\n",
       "      <th>75%</th>\n",
       "      <th>max</th>\n",
       "    </tr>\n",
       "  </thead>\n",
       "  <tbody>\n",
       "    <tr>\n",
       "      <th>distance</th>\n",
       "      <td>388.0</td>\n",
       "      <td>19.652835</td>\n",
       "      <td>22.667837</td>\n",
       "      <td>1.3</td>\n",
       "      <td>11.80</td>\n",
       "      <td>14.6</td>\n",
       "      <td>19.0</td>\n",
       "      <td>216.1</td>\n",
       "    </tr>\n",
       "    <tr>\n",
       "      <th>consume</th>\n",
       "      <td>388.0</td>\n",
       "      <td>4.912371</td>\n",
       "      <td>1.033172</td>\n",
       "      <td>3.3</td>\n",
       "      <td>4.30</td>\n",
       "      <td>4.7</td>\n",
       "      <td>5.3</td>\n",
       "      <td>12.2</td>\n",
       "    </tr>\n",
       "    <tr>\n",
       "      <th>speed</th>\n",
       "      <td>388.0</td>\n",
       "      <td>41.927835</td>\n",
       "      <td>13.598524</td>\n",
       "      <td>14.0</td>\n",
       "      <td>32.75</td>\n",
       "      <td>40.5</td>\n",
       "      <td>50.0</td>\n",
       "      <td>90.0</td>\n",
       "    </tr>\n",
       "    <tr>\n",
       "      <th>temp_inside</th>\n",
       "      <td>388.0</td>\n",
       "      <td>21.929521</td>\n",
       "      <td>0.994666</td>\n",
       "      <td>19.0</td>\n",
       "      <td>21.50</td>\n",
       "      <td>22.0</td>\n",
       "      <td>22.5</td>\n",
       "      <td>25.5</td>\n",
       "    </tr>\n",
       "    <tr>\n",
       "      <th>temp_outside</th>\n",
       "      <td>388.0</td>\n",
       "      <td>11.358247</td>\n",
       "      <td>6.991542</td>\n",
       "      <td>-5.0</td>\n",
       "      <td>7.00</td>\n",
       "      <td>10.0</td>\n",
       "      <td>16.0</td>\n",
       "      <td>31.0</td>\n",
       "    </tr>\n",
       "    <tr>\n",
       "      <th>ac</th>\n",
       "      <td>388.0</td>\n",
       "      <td>0.077320</td>\n",
       "      <td>0.267443</td>\n",
       "      <td>0.0</td>\n",
       "      <td>0.00</td>\n",
       "      <td>0.0</td>\n",
       "      <td>0.0</td>\n",
       "      <td>1.0</td>\n",
       "    </tr>\n",
       "    <tr>\n",
       "      <th>rain</th>\n",
       "      <td>388.0</td>\n",
       "      <td>0.123711</td>\n",
       "      <td>0.329677</td>\n",
       "      <td>0.0</td>\n",
       "      <td>0.00</td>\n",
       "      <td>0.0</td>\n",
       "      <td>0.0</td>\n",
       "      <td>1.0</td>\n",
       "    </tr>\n",
       "    <tr>\n",
       "      <th>sun</th>\n",
       "      <td>388.0</td>\n",
       "      <td>0.082474</td>\n",
       "      <td>0.275441</td>\n",
       "      <td>0.0</td>\n",
       "      <td>0.00</td>\n",
       "      <td>0.0</td>\n",
       "      <td>0.0</td>\n",
       "      <td>1.0</td>\n",
       "    </tr>\n",
       "  </tbody>\n",
       "</table>\n",
       "</div>"
      ],
      "text/plain": [
       "              count       mean        std   min    25%   50%   75%    max\n",
       "distance      388.0  19.652835  22.667837   1.3  11.80  14.6  19.0  216.1\n",
       "consume       388.0   4.912371   1.033172   3.3   4.30   4.7   5.3   12.2\n",
       "speed         388.0  41.927835  13.598524  14.0  32.75  40.5  50.0   90.0\n",
       "temp_inside   388.0  21.929521   0.994666  19.0  21.50  22.0  22.5   25.5\n",
       "temp_outside  388.0  11.358247   6.991542  -5.0   7.00  10.0  16.0   31.0\n",
       "ac            388.0   0.077320   0.267443   0.0   0.00   0.0   0.0    1.0\n",
       "rain          388.0   0.123711   0.329677   0.0   0.00   0.0   0.0    1.0\n",
       "sun           388.0   0.082474   0.275441   0.0   0.00   0.0   0.0    1.0"
      ]
     },
     "execution_count": 23,
     "metadata": {},
     "output_type": "execute_result"
    }
   ],
   "source": [
    "numerical.describe().T"
   ]
  },
  {
   "cell_type": "code",
   "execution_count": 24,
   "id": "e81277d1",
   "metadata": {},
   "outputs": [
    {
     "data": {
      "text/plain": [
       "Index(['distance', 'consume', 'speed', 'temp_inside', 'temp_outside', 'ac',\n",
       "       'rain', 'sun'],\n",
       "      dtype='object')"
      ]
     },
     "execution_count": 24,
     "metadata": {},
     "output_type": "execute_result"
    }
   ],
   "source": [
    "numerical.columns"
   ]
  },
  {
   "cell_type": "code",
   "execution_count": 25,
   "id": "d96370ba",
   "metadata": {},
   "outputs": [
    {
     "name": "stdout",
     "output_type": "stream",
     "text": [
      "distance : 174\n",
      "consume : 43\n",
      "speed : 60\n",
      "temp_inside : 14\n",
      "temp_outside : 33\n",
      "ac : 2\n",
      "rain : 2\n",
      "sun : 2\n"
     ]
    }
   ],
   "source": [
    "def value_count(df):\n",
    "    for column in df.columns:\n",
    "        print(column, \":\", len(df[column].unique())) # number of unique value for each column\n",
    "    \n",
    "value_count(numerical)"
   ]
  },
  {
   "cell_type": "code",
   "execution_count": 26,
   "id": "4c2dbbce",
   "metadata": {},
   "outputs": [
    {
     "name": "stdout",
     "output_type": "stream",
     "text": [
      "Old shape:  (388, 8)\n"
     ]
    }
   ],
   "source": [
    "print(\"Old shape: \", numerical.shape)"
   ]
  },
  {
   "cell_type": "code",
   "execution_count": 27,
   "id": "058cae65",
   "metadata": {},
   "outputs": [],
   "source": [
    "def outliers(column, threshold = 3):\n",
    "    data = column[abs(column.apply(lambda x: (x - column.mean())/column.var()**(1/2))) > threshold]\n",
    "    \n",
    "    return data"
   ]
  },
  {
   "cell_type": "code",
   "execution_count": 28,
   "id": "6f80503c",
   "metadata": {},
   "outputs": [],
   "source": [
    "distance_outliers = outliers(numerical[\"distance\"])\n",
    "consume_outliers = outliers(numerical[\"consume\"])"
   ]
  },
  {
   "cell_type": "code",
   "execution_count": 29,
   "id": "68bc9d55",
   "metadata": {},
   "outputs": [
    {
     "data": {
      "text/plain": [
       "9"
      ]
     },
     "execution_count": 29,
     "metadata": {},
     "output_type": "execute_result"
    }
   ],
   "source": [
    "len(distance_outliers)"
   ]
  },
  {
   "cell_type": "code",
   "execution_count": 30,
   "id": "82f76823",
   "metadata": {},
   "outputs": [
    {
     "data": {
      "text/plain": [
       "8"
      ]
     },
     "execution_count": 30,
     "metadata": {},
     "output_type": "execute_result"
    }
   ],
   "source": [
    "len(consume_outliers)"
   ]
  },
  {
   "cell_type": "code",
   "execution_count": 31,
   "id": "9df7d9ab",
   "metadata": {},
   "outputs": [
    {
     "data": {
      "text/plain": [
       "55     153.5\n",
       "106    162.7\n",
       "189    130.3\n",
       "272    101.9\n",
       "273     93.9\n",
       "318    211.0\n",
       "319    216.1\n",
       "333    100.9\n",
       "334    129.7\n",
       "Name: distance, dtype: float64"
      ]
     },
     "execution_count": 31,
     "metadata": {},
     "output_type": "execute_result"
    }
   ],
   "source": [
    "distance_outliers"
   ]
  },
  {
   "cell_type": "code",
   "execution_count": 32,
   "id": "d7388297",
   "metadata": {},
   "outputs": [
    {
     "data": {
      "text/plain": [
       "45      9.9\n",
       "61     12.2\n",
       "112     8.7\n",
       "147    10.8\n",
       "160     8.1\n",
       "206     9.0\n",
       "210    11.5\n",
       "254     8.1\n",
       "Name: consume, dtype: float64"
      ]
     },
     "execution_count": 32,
     "metadata": {},
     "output_type": "execute_result"
    }
   ],
   "source": [
    "consume_outliers"
   ]
  },
  {
   "cell_type": "code",
   "execution_count": 33,
   "id": "9d816f23",
   "metadata": {},
   "outputs": [
    {
     "data": {
      "text/plain": [
       "(388, 9)"
      ]
     },
     "execution_count": 33,
     "metadata": {},
     "output_type": "execute_result"
    }
   ],
   "source": [
    "data_2.shape"
   ]
  },
  {
   "cell_type": "code",
   "execution_count": 34,
   "id": "738ff9c2",
   "metadata": {},
   "outputs": [
    {
     "data": {
      "text/plain": [
       "(388, 8)"
      ]
     },
     "execution_count": 34,
     "metadata": {},
     "output_type": "execute_result"
    }
   ],
   "source": [
    "numerical.shape"
   ]
  },
  {
   "cell_type": "code",
   "execution_count": 35,
   "id": "c88570bd",
   "metadata": {},
   "outputs": [
    {
     "data": {
      "text/plain": [
       "(388, 1)"
      ]
     },
     "execution_count": 35,
     "metadata": {},
     "output_type": "execute_result"
    }
   ],
   "source": [
    "categorical.shape"
   ]
  },
  {
   "cell_type": "code",
   "execution_count": 36,
   "id": "7f34661a",
   "metadata": {},
   "outputs": [
    {
     "name": "stderr",
     "output_type": "stream",
     "text": [
      "/var/folders/tr/nqbjf62d721fqy35q732j79m0000gn/T/ipykernel_5051/2025370576.py:1: FutureWarning: Index.__or__ operating as a set operation is deprecated, in the future this will be a logical operation matching Series.__or__.  Use index.union(other) instead.\n",
      "  to_drop = distance_outliers.index | consume_outliers.index\n"
     ]
    }
   ],
   "source": [
    "to_drop = distance_outliers.index | consume_outliers.index"
   ]
  },
  {
   "cell_type": "code",
   "execution_count": 37,
   "id": "b629ad59",
   "metadata": {},
   "outputs": [
    {
     "data": {
      "text/plain": [
       "distance        0\n",
       "consume         0\n",
       "speed           0\n",
       "temp_inside     0\n",
       "temp_outside    0\n",
       "ac              0\n",
       "rain            0\n",
       "sun             0\n",
       "dtype: int64"
      ]
     },
     "execution_count": 37,
     "metadata": {},
     "output_type": "execute_result"
    }
   ],
   "source": [
    "clean_numerical = numerical.drop(to_drop).reset_index(drop = True)\n",
    "clean_numerical.isna().sum()"
   ]
  },
  {
   "cell_type": "code",
   "execution_count": 38,
   "id": "b424786d",
   "metadata": {},
   "outputs": [
    {
     "data": {
      "text/html": [
       "<div>\n",
       "<style scoped>\n",
       "    .dataframe tbody tr th:only-of-type {\n",
       "        vertical-align: middle;\n",
       "    }\n",
       "\n",
       "    .dataframe tbody tr th {\n",
       "        vertical-align: top;\n",
       "    }\n",
       "\n",
       "    .dataframe thead th {\n",
       "        text-align: right;\n",
       "    }\n",
       "</style>\n",
       "<table border=\"1\" class=\"dataframe\">\n",
       "  <thead>\n",
       "    <tr style=\"text-align: right;\">\n",
       "      <th></th>\n",
       "      <th>distance</th>\n",
       "      <th>consume</th>\n",
       "      <th>speed</th>\n",
       "      <th>temp_inside</th>\n",
       "      <th>temp_outside</th>\n",
       "      <th>ac</th>\n",
       "      <th>rain</th>\n",
       "      <th>sun</th>\n",
       "    </tr>\n",
       "  </thead>\n",
       "  <tbody>\n",
       "    <tr>\n",
       "      <th>0</th>\n",
       "      <td>28.0</td>\n",
       "      <td>5.0</td>\n",
       "      <td>26</td>\n",
       "      <td>21.5</td>\n",
       "      <td>12</td>\n",
       "      <td>0</td>\n",
       "      <td>0</td>\n",
       "      <td>0</td>\n",
       "    </tr>\n",
       "    <tr>\n",
       "      <th>1</th>\n",
       "      <td>12.0</td>\n",
       "      <td>4.2</td>\n",
       "      <td>30</td>\n",
       "      <td>21.5</td>\n",
       "      <td>13</td>\n",
       "      <td>0</td>\n",
       "      <td>0</td>\n",
       "      <td>0</td>\n",
       "    </tr>\n",
       "    <tr>\n",
       "      <th>2</th>\n",
       "      <td>11.2</td>\n",
       "      <td>5.5</td>\n",
       "      <td>38</td>\n",
       "      <td>21.5</td>\n",
       "      <td>15</td>\n",
       "      <td>0</td>\n",
       "      <td>0</td>\n",
       "      <td>0</td>\n",
       "    </tr>\n",
       "    <tr>\n",
       "      <th>3</th>\n",
       "      <td>12.9</td>\n",
       "      <td>3.9</td>\n",
       "      <td>36</td>\n",
       "      <td>21.5</td>\n",
       "      <td>14</td>\n",
       "      <td>0</td>\n",
       "      <td>0</td>\n",
       "      <td>0</td>\n",
       "    </tr>\n",
       "    <tr>\n",
       "      <th>4</th>\n",
       "      <td>18.5</td>\n",
       "      <td>4.5</td>\n",
       "      <td>46</td>\n",
       "      <td>21.5</td>\n",
       "      <td>15</td>\n",
       "      <td>0</td>\n",
       "      <td>0</td>\n",
       "      <td>0</td>\n",
       "    </tr>\n",
       "    <tr>\n",
       "      <th>...</th>\n",
       "      <td>...</td>\n",
       "      <td>...</td>\n",
       "      <td>...</td>\n",
       "      <td>...</td>\n",
       "      <td>...</td>\n",
       "      <td>...</td>\n",
       "      <td>...</td>\n",
       "      <td>...</td>\n",
       "    </tr>\n",
       "    <tr>\n",
       "      <th>366</th>\n",
       "      <td>16.0</td>\n",
       "      <td>3.7</td>\n",
       "      <td>39</td>\n",
       "      <td>24.5</td>\n",
       "      <td>18</td>\n",
       "      <td>0</td>\n",
       "      <td>0</td>\n",
       "      <td>0</td>\n",
       "    </tr>\n",
       "    <tr>\n",
       "      <th>367</th>\n",
       "      <td>16.1</td>\n",
       "      <td>4.3</td>\n",
       "      <td>38</td>\n",
       "      <td>25.0</td>\n",
       "      <td>31</td>\n",
       "      <td>1</td>\n",
       "      <td>0</td>\n",
       "      <td>0</td>\n",
       "    </tr>\n",
       "    <tr>\n",
       "      <th>368</th>\n",
       "      <td>16.0</td>\n",
       "      <td>3.8</td>\n",
       "      <td>45</td>\n",
       "      <td>25.0</td>\n",
       "      <td>19</td>\n",
       "      <td>0</td>\n",
       "      <td>0</td>\n",
       "      <td>0</td>\n",
       "    </tr>\n",
       "    <tr>\n",
       "      <th>369</th>\n",
       "      <td>15.4</td>\n",
       "      <td>4.6</td>\n",
       "      <td>42</td>\n",
       "      <td>25.0</td>\n",
       "      <td>31</td>\n",
       "      <td>1</td>\n",
       "      <td>0</td>\n",
       "      <td>0</td>\n",
       "    </tr>\n",
       "    <tr>\n",
       "      <th>370</th>\n",
       "      <td>14.7</td>\n",
       "      <td>5.0</td>\n",
       "      <td>25</td>\n",
       "      <td>25.0</td>\n",
       "      <td>30</td>\n",
       "      <td>1</td>\n",
       "      <td>0</td>\n",
       "      <td>0</td>\n",
       "    </tr>\n",
       "  </tbody>\n",
       "</table>\n",
       "<p>371 rows × 8 columns</p>\n",
       "</div>"
      ],
      "text/plain": [
       "     distance  consume  speed  temp_inside  temp_outside  ac  rain  sun\n",
       "0        28.0      5.0     26         21.5            12   0     0    0\n",
       "1        12.0      4.2     30         21.5            13   0     0    0\n",
       "2        11.2      5.5     38         21.5            15   0     0    0\n",
       "3        12.9      3.9     36         21.5            14   0     0    0\n",
       "4        18.5      4.5     46         21.5            15   0     0    0\n",
       "..        ...      ...    ...          ...           ...  ..   ...  ...\n",
       "366      16.0      3.7     39         24.5            18   0     0    0\n",
       "367      16.1      4.3     38         25.0            31   1     0    0\n",
       "368      16.0      3.8     45         25.0            19   0     0    0\n",
       "369      15.4      4.6     42         25.0            31   1     0    0\n",
       "370      14.7      5.0     25         25.0            30   1     0    0\n",
       "\n",
       "[371 rows x 8 columns]"
      ]
     },
     "execution_count": 38,
     "metadata": {},
     "output_type": "execute_result"
    }
   ],
   "source": [
    "clean_numerical"
   ]
  },
  {
   "cell_type": "code",
   "execution_count": 39,
   "id": "bd7699e8",
   "metadata": {},
   "outputs": [
    {
     "data": {
      "text/html": [
       "<div>\n",
       "<style scoped>\n",
       "    .dataframe tbody tr th:only-of-type {\n",
       "        vertical-align: middle;\n",
       "    }\n",
       "\n",
       "    .dataframe tbody tr th {\n",
       "        vertical-align: top;\n",
       "    }\n",
       "\n",
       "    .dataframe thead th {\n",
       "        text-align: right;\n",
       "    }\n",
       "</style>\n",
       "<table border=\"1\" class=\"dataframe\">\n",
       "  <thead>\n",
       "    <tr style=\"text-align: right;\">\n",
       "      <th></th>\n",
       "      <th>distance</th>\n",
       "      <th>consume</th>\n",
       "      <th>speed</th>\n",
       "      <th>temp_inside</th>\n",
       "      <th>temp_outside</th>\n",
       "      <th>ac</th>\n",
       "      <th>rain</th>\n",
       "      <th>sun</th>\n",
       "    </tr>\n",
       "  </thead>\n",
       "  <tbody>\n",
       "    <tr>\n",
       "      <th>0</th>\n",
       "      <td>28.0</td>\n",
       "      <td>5.0</td>\n",
       "      <td>26</td>\n",
       "      <td>21.5</td>\n",
       "      <td>12</td>\n",
       "      <td>0</td>\n",
       "      <td>0</td>\n",
       "      <td>0</td>\n",
       "    </tr>\n",
       "    <tr>\n",
       "      <th>1</th>\n",
       "      <td>12.0</td>\n",
       "      <td>4.2</td>\n",
       "      <td>30</td>\n",
       "      <td>21.5</td>\n",
       "      <td>13</td>\n",
       "      <td>0</td>\n",
       "      <td>0</td>\n",
       "      <td>0</td>\n",
       "    </tr>\n",
       "    <tr>\n",
       "      <th>2</th>\n",
       "      <td>11.2</td>\n",
       "      <td>5.5</td>\n",
       "      <td>38</td>\n",
       "      <td>21.5</td>\n",
       "      <td>15</td>\n",
       "      <td>0</td>\n",
       "      <td>0</td>\n",
       "      <td>0</td>\n",
       "    </tr>\n",
       "    <tr>\n",
       "      <th>3</th>\n",
       "      <td>12.9</td>\n",
       "      <td>3.9</td>\n",
       "      <td>36</td>\n",
       "      <td>21.5</td>\n",
       "      <td>14</td>\n",
       "      <td>0</td>\n",
       "      <td>0</td>\n",
       "      <td>0</td>\n",
       "    </tr>\n",
       "    <tr>\n",
       "      <th>4</th>\n",
       "      <td>18.5</td>\n",
       "      <td>4.5</td>\n",
       "      <td>46</td>\n",
       "      <td>21.5</td>\n",
       "      <td>15</td>\n",
       "      <td>0</td>\n",
       "      <td>0</td>\n",
       "      <td>0</td>\n",
       "    </tr>\n",
       "    <tr>\n",
       "      <th>...</th>\n",
       "      <td>...</td>\n",
       "      <td>...</td>\n",
       "      <td>...</td>\n",
       "      <td>...</td>\n",
       "      <td>...</td>\n",
       "      <td>...</td>\n",
       "      <td>...</td>\n",
       "      <td>...</td>\n",
       "    </tr>\n",
       "    <tr>\n",
       "      <th>366</th>\n",
       "      <td>16.0</td>\n",
       "      <td>3.7</td>\n",
       "      <td>39</td>\n",
       "      <td>24.5</td>\n",
       "      <td>18</td>\n",
       "      <td>0</td>\n",
       "      <td>0</td>\n",
       "      <td>0</td>\n",
       "    </tr>\n",
       "    <tr>\n",
       "      <th>367</th>\n",
       "      <td>16.1</td>\n",
       "      <td>4.3</td>\n",
       "      <td>38</td>\n",
       "      <td>25.0</td>\n",
       "      <td>31</td>\n",
       "      <td>1</td>\n",
       "      <td>0</td>\n",
       "      <td>0</td>\n",
       "    </tr>\n",
       "    <tr>\n",
       "      <th>368</th>\n",
       "      <td>16.0</td>\n",
       "      <td>3.8</td>\n",
       "      <td>45</td>\n",
       "      <td>25.0</td>\n",
       "      <td>19</td>\n",
       "      <td>0</td>\n",
       "      <td>0</td>\n",
       "      <td>0</td>\n",
       "    </tr>\n",
       "    <tr>\n",
       "      <th>369</th>\n",
       "      <td>15.4</td>\n",
       "      <td>4.6</td>\n",
       "      <td>42</td>\n",
       "      <td>25.0</td>\n",
       "      <td>31</td>\n",
       "      <td>1</td>\n",
       "      <td>0</td>\n",
       "      <td>0</td>\n",
       "    </tr>\n",
       "    <tr>\n",
       "      <th>370</th>\n",
       "      <td>14.7</td>\n",
       "      <td>5.0</td>\n",
       "      <td>25</td>\n",
       "      <td>25.0</td>\n",
       "      <td>30</td>\n",
       "      <td>1</td>\n",
       "      <td>0</td>\n",
       "      <td>0</td>\n",
       "    </tr>\n",
       "  </tbody>\n",
       "</table>\n",
       "<p>371 rows × 8 columns</p>\n",
       "</div>"
      ],
      "text/plain": [
       "     distance  consume  speed  temp_inside  temp_outside  ac  rain  sun\n",
       "0        28.0      5.0     26         21.5            12   0     0    0\n",
       "1        12.0      4.2     30         21.5            13   0     0    0\n",
       "2        11.2      5.5     38         21.5            15   0     0    0\n",
       "3        12.9      3.9     36         21.5            14   0     0    0\n",
       "4        18.5      4.5     46         21.5            15   0     0    0\n",
       "..        ...      ...    ...          ...           ...  ..   ...  ...\n",
       "366      16.0      3.7     39         24.5            18   0     0    0\n",
       "367      16.1      4.3     38         25.0            31   1     0    0\n",
       "368      16.0      3.8     45         25.0            19   0     0    0\n",
       "369      15.4      4.6     42         25.0            31   1     0    0\n",
       "370      14.7      5.0     25         25.0            30   1     0    0\n",
       "\n",
       "[371 rows x 8 columns]"
      ]
     },
     "execution_count": 39,
     "metadata": {},
     "output_type": "execute_result"
    }
   ],
   "source": [
    "clean_numerical.iloc[:,0:9].round(2)"
   ]
  },
  {
   "cell_type": "code",
   "execution_count": 40,
   "id": "1898fb1c",
   "metadata": {
    "scrolled": true
   },
   "outputs": [
    {
     "name": "stdout",
     "output_type": "stream",
     "text": [
      "New shape:  (371, 8)\n"
     ]
    }
   ],
   "source": [
    "print(\"New shape: \",clean_numerical.shape)"
   ]
  },
  {
   "cell_type": "code",
   "execution_count": 41,
   "id": "2026b4ce",
   "metadata": {},
   "outputs": [],
   "source": [
    "# Categorical dataframe\n",
    "clean_categorical = categorical.drop(to_drop).reset_index(drop = True)"
   ]
  },
  {
   "cell_type": "code",
   "execution_count": 42,
   "id": "de4d5b55",
   "metadata": {},
   "outputs": [
    {
     "data": {
      "text/plain": [
       "(371, 1)"
      ]
     },
     "execution_count": 42,
     "metadata": {},
     "output_type": "execute_result"
    }
   ],
   "source": [
    "clean_categorical.shape"
   ]
  },
  {
   "cell_type": "code",
   "execution_count": 43,
   "id": "f2ce9505",
   "metadata": {},
   "outputs": [
    {
     "data": {
      "text/plain": [
       "(371, 9)"
      ]
     },
     "execution_count": 43,
     "metadata": {},
     "output_type": "execute_result"
    }
   ],
   "source": [
    "data_2_clean = pd.concat([clean_categorical, clean_numerical.iloc[:,0:11].round(2)], axis=1)\n",
    "data_2_clean.shape"
   ]
  },
  {
   "cell_type": "code",
   "execution_count": 44,
   "id": "b1496ae6",
   "metadata": {},
   "outputs": [
    {
     "data": {
      "text/html": [
       "<div>\n",
       "<style scoped>\n",
       "    .dataframe tbody tr th:only-of-type {\n",
       "        vertical-align: middle;\n",
       "    }\n",
       "\n",
       "    .dataframe tbody tr th {\n",
       "        vertical-align: top;\n",
       "    }\n",
       "\n",
       "    .dataframe thead th {\n",
       "        text-align: right;\n",
       "    }\n",
       "</style>\n",
       "<table border=\"1\" class=\"dataframe\">\n",
       "  <thead>\n",
       "    <tr style=\"text-align: right;\">\n",
       "      <th></th>\n",
       "      <th>gas_type</th>\n",
       "      <th>distance</th>\n",
       "      <th>consume</th>\n",
       "      <th>speed</th>\n",
       "      <th>temp_inside</th>\n",
       "      <th>temp_outside</th>\n",
       "      <th>ac</th>\n",
       "      <th>rain</th>\n",
       "      <th>sun</th>\n",
       "    </tr>\n",
       "  </thead>\n",
       "  <tbody>\n",
       "    <tr>\n",
       "      <th>0</th>\n",
       "      <td>E10</td>\n",
       "      <td>28.0</td>\n",
       "      <td>5.0</td>\n",
       "      <td>26</td>\n",
       "      <td>21.5</td>\n",
       "      <td>12</td>\n",
       "      <td>0</td>\n",
       "      <td>0</td>\n",
       "      <td>0</td>\n",
       "    </tr>\n",
       "    <tr>\n",
       "      <th>1</th>\n",
       "      <td>E10</td>\n",
       "      <td>12.0</td>\n",
       "      <td>4.2</td>\n",
       "      <td>30</td>\n",
       "      <td>21.5</td>\n",
       "      <td>13</td>\n",
       "      <td>0</td>\n",
       "      <td>0</td>\n",
       "      <td>0</td>\n",
       "    </tr>\n",
       "    <tr>\n",
       "      <th>2</th>\n",
       "      <td>E10</td>\n",
       "      <td>11.2</td>\n",
       "      <td>5.5</td>\n",
       "      <td>38</td>\n",
       "      <td>21.5</td>\n",
       "      <td>15</td>\n",
       "      <td>0</td>\n",
       "      <td>0</td>\n",
       "      <td>0</td>\n",
       "    </tr>\n",
       "    <tr>\n",
       "      <th>3</th>\n",
       "      <td>E10</td>\n",
       "      <td>12.9</td>\n",
       "      <td>3.9</td>\n",
       "      <td>36</td>\n",
       "      <td>21.5</td>\n",
       "      <td>14</td>\n",
       "      <td>0</td>\n",
       "      <td>0</td>\n",
       "      <td>0</td>\n",
       "    </tr>\n",
       "    <tr>\n",
       "      <th>4</th>\n",
       "      <td>E10</td>\n",
       "      <td>18.5</td>\n",
       "      <td>4.5</td>\n",
       "      <td>46</td>\n",
       "      <td>21.5</td>\n",
       "      <td>15</td>\n",
       "      <td>0</td>\n",
       "      <td>0</td>\n",
       "      <td>0</td>\n",
       "    </tr>\n",
       "  </tbody>\n",
       "</table>\n",
       "</div>"
      ],
      "text/plain": [
       "  gas_type  distance  consume  speed  temp_inside  temp_outside  ac  rain  sun\n",
       "0      E10      28.0      5.0     26         21.5            12   0     0    0\n",
       "1      E10      12.0      4.2     30         21.5            13   0     0    0\n",
       "2      E10      11.2      5.5     38         21.5            15   0     0    0\n",
       "3      E10      12.9      3.9     36         21.5            14   0     0    0\n",
       "4      E10      18.5      4.5     46         21.5            15   0     0    0"
      ]
     },
     "execution_count": 44,
     "metadata": {},
     "output_type": "execute_result"
    }
   ],
   "source": [
    "data_2_clean.head()"
   ]
  },
  {
   "cell_type": "code",
   "execution_count": 45,
   "id": "8f59de38",
   "metadata": {},
   "outputs": [
    {
     "data": {
      "text/html": [
       "<div>\n",
       "<style scoped>\n",
       "    .dataframe tbody tr th:only-of-type {\n",
       "        vertical-align: middle;\n",
       "    }\n",
       "\n",
       "    .dataframe tbody tr th {\n",
       "        vertical-align: top;\n",
       "    }\n",
       "\n",
       "    .dataframe thead th {\n",
       "        text-align: right;\n",
       "    }\n",
       "</style>\n",
       "<table border=\"1\" class=\"dataframe\">\n",
       "  <thead>\n",
       "    <tr style=\"text-align: right;\">\n",
       "      <th></th>\n",
       "      <th>gas_type</th>\n",
       "      <th>distance</th>\n",
       "      <th>consume</th>\n",
       "      <th>speed</th>\n",
       "      <th>temp_inside</th>\n",
       "      <th>temp_outside</th>\n",
       "      <th>ac</th>\n",
       "      <th>rain</th>\n",
       "      <th>sun</th>\n",
       "    </tr>\n",
       "  </thead>\n",
       "  <tbody>\n",
       "    <tr>\n",
       "      <th>366</th>\n",
       "      <td>SP98</td>\n",
       "      <td>16.0</td>\n",
       "      <td>3.7</td>\n",
       "      <td>39</td>\n",
       "      <td>24.5</td>\n",
       "      <td>18</td>\n",
       "      <td>0</td>\n",
       "      <td>0</td>\n",
       "      <td>0</td>\n",
       "    </tr>\n",
       "    <tr>\n",
       "      <th>367</th>\n",
       "      <td>SP98</td>\n",
       "      <td>16.1</td>\n",
       "      <td>4.3</td>\n",
       "      <td>38</td>\n",
       "      <td>25.0</td>\n",
       "      <td>31</td>\n",
       "      <td>1</td>\n",
       "      <td>0</td>\n",
       "      <td>0</td>\n",
       "    </tr>\n",
       "    <tr>\n",
       "      <th>368</th>\n",
       "      <td>SP98</td>\n",
       "      <td>16.0</td>\n",
       "      <td>3.8</td>\n",
       "      <td>45</td>\n",
       "      <td>25.0</td>\n",
       "      <td>19</td>\n",
       "      <td>0</td>\n",
       "      <td>0</td>\n",
       "      <td>0</td>\n",
       "    </tr>\n",
       "    <tr>\n",
       "      <th>369</th>\n",
       "      <td>SP98</td>\n",
       "      <td>15.4</td>\n",
       "      <td>4.6</td>\n",
       "      <td>42</td>\n",
       "      <td>25.0</td>\n",
       "      <td>31</td>\n",
       "      <td>1</td>\n",
       "      <td>0</td>\n",
       "      <td>0</td>\n",
       "    </tr>\n",
       "    <tr>\n",
       "      <th>370</th>\n",
       "      <td>SP98</td>\n",
       "      <td>14.7</td>\n",
       "      <td>5.0</td>\n",
       "      <td>25</td>\n",
       "      <td>25.0</td>\n",
       "      <td>30</td>\n",
       "      <td>1</td>\n",
       "      <td>0</td>\n",
       "      <td>0</td>\n",
       "    </tr>\n",
       "  </tbody>\n",
       "</table>\n",
       "</div>"
      ],
      "text/plain": [
       "    gas_type  distance  consume  speed  temp_inside  temp_outside  ac  rain  \\\n",
       "366     SP98      16.0      3.7     39         24.5            18   0     0   \n",
       "367     SP98      16.1      4.3     38         25.0            31   1     0   \n",
       "368     SP98      16.0      3.8     45         25.0            19   0     0   \n",
       "369     SP98      15.4      4.6     42         25.0            31   1     0   \n",
       "370     SP98      14.7      5.0     25         25.0            30   1     0   \n",
       "\n",
       "     sun  \n",
       "366    0  \n",
       "367    0  \n",
       "368    0  \n",
       "369    0  \n",
       "370    0  "
      ]
     },
     "execution_count": 45,
     "metadata": {},
     "output_type": "execute_result"
    }
   ],
   "source": [
    "data_2_clean.tail(5)"
   ]
  },
  {
   "cell_type": "code",
   "execution_count": 46,
   "id": "fda824e5",
   "metadata": {},
   "outputs": [
    {
     "data": {
      "text/plain": [
       "gas_type         object\n",
       "distance        float64\n",
       "consume         float64\n",
       "speed             int64\n",
       "temp_inside     float64\n",
       "temp_outside      int64\n",
       "ac                int64\n",
       "rain              int64\n",
       "sun               int64\n",
       "dtype: object"
      ]
     },
     "execution_count": 46,
     "metadata": {},
     "output_type": "execute_result"
    }
   ],
   "source": [
    "data_2_clean.dtypes"
   ]
  },
  {
   "cell_type": "code",
   "execution_count": 47,
   "id": "152e42a4",
   "metadata": {},
   "outputs": [],
   "source": [
    "data = data_2_clean"
   ]
  },
  {
   "cell_type": "code",
   "execution_count": 48,
   "id": "26be8202",
   "metadata": {},
   "outputs": [
    {
     "data": {
      "text/plain": [
       "SP98    219\n",
       "E10     152\n",
       "Name: gas_type, dtype: int64"
      ]
     },
     "execution_count": 48,
     "metadata": {},
     "output_type": "execute_result"
    }
   ],
   "source": [
    "data['gas_type'].value_counts()"
   ]
  },
  {
   "cell_type": "markdown",
   "id": "9ed3506c",
   "metadata": {},
   "source": [
    "# X/y split"
   ]
  },
  {
   "cell_type": "code",
   "execution_count": 49,
   "id": "fb7103cb",
   "metadata": {},
   "outputs": [],
   "source": [
    "# standardization of independent variables\n",
    "# separate the target column which is gas_type\n",
    "X = data.drop(['gas_type'],axis = 1)\n",
    "y = data['gas_type']"
   ]
  },
  {
   "cell_type": "markdown",
   "id": "8b285c3c",
   "metadata": {},
   "source": [
    "# Correlation matrix"
   ]
  },
  {
   "cell_type": "code",
   "execution_count": 50,
   "id": "b0f4b95b",
   "metadata": {},
   "outputs": [
    {
     "data": {
      "image/png": "[encoded data removed]",
      "text/plain": [
       "<Figure size 720x576 with 2 Axes>"
      ]
     },
     "metadata": {
      "needs_background": "light"
     },
     "output_type": "display_data"
    }
   ],
   "source": [
    "# No collinearity: we do not need to remove any column.\n",
    "correlations_matrix = X.corr()\n",
    "fig, ax = plt.subplots(figsize=(10,8))\n",
    "ax = sns.heatmap(correlations_matrix, annot=True, annot_kws={'fontsize': 10})\n",
    "plt.show()"
   ]
  },
  {
   "cell_type": "markdown",
   "id": "c9cb2899",
   "metadata": {},
   "source": [
    "# Train test split"
   ]
  },
  {
   "cell_type": "code",
   "execution_count": 51,
   "id": "dbf5a2b8",
   "metadata": {},
   "outputs": [],
   "source": [
    "X_train, X_test, y_train, y_test = train_test_split(X, y, test_size=0.2, random_state=0)"
   ]
  },
  {
   "cell_type": "markdown",
   "id": "03fde08e",
   "metadata": {},
   "source": [
    "# Standard Scaler"
   ]
  },
  {
   "cell_type": "code",
   "execution_count": 52,
   "id": "f6fbe0f7",
   "metadata": {},
   "outputs": [
    {
     "data": {
      "text/html": [
       "<div>\n",
       "<style scoped>\n",
       "    .dataframe tbody tr th:only-of-type {\n",
       "        vertical-align: middle;\n",
       "    }\n",
       "\n",
       "    .dataframe tbody tr th {\n",
       "        vertical-align: top;\n",
       "    }\n",
       "\n",
       "    .dataframe thead th {\n",
       "        text-align: right;\n",
       "    }\n",
       "</style>\n",
       "<table border=\"1\" class=\"dataframe\">\n",
       "  <thead>\n",
       "    <tr style=\"text-align: right;\">\n",
       "      <th></th>\n",
       "      <th>distance</th>\n",
       "      <th>consume</th>\n",
       "      <th>speed</th>\n",
       "      <th>temp_inside</th>\n",
       "      <th>temp_outside</th>\n",
       "      <th>ac</th>\n",
       "      <th>rain</th>\n",
       "      <th>sun</th>\n",
       "    </tr>\n",
       "  </thead>\n",
       "  <tbody>\n",
       "    <tr>\n",
       "      <th>0</th>\n",
       "      <td>-0.505431</td>\n",
       "      <td>-0.266410</td>\n",
       "      <td>-0.049454</td>\n",
       "      <td>-0.428227</td>\n",
       "      <td>-0.789584</td>\n",
       "      <td>-0.310316</td>\n",
       "      <td>-0.377964</td>\n",
       "      <td>-0.310316</td>\n",
       "    </tr>\n",
       "    <tr>\n",
       "      <th>1</th>\n",
       "      <td>0.353429</td>\n",
       "      <td>-0.961801</td>\n",
       "      <td>-0.293425</td>\n",
       "      <td>0.054466</td>\n",
       "      <td>1.312187</td>\n",
       "      <td>-0.310316</td>\n",
       "      <td>-0.377964</td>\n",
       "      <td>-0.310316</td>\n",
       "    </tr>\n",
       "    <tr>\n",
       "      <th>2</th>\n",
       "      <td>-1.247175</td>\n",
       "      <td>1.124372</td>\n",
       "      <td>-0.781368</td>\n",
       "      <td>0.054466</td>\n",
       "      <td>0.891833</td>\n",
       "      <td>-0.310316</td>\n",
       "      <td>-0.377964</td>\n",
       "      <td>-0.310316</td>\n",
       "    </tr>\n",
       "    <tr>\n",
       "      <th>3</th>\n",
       "      <td>-0.095521</td>\n",
       "      <td>-1.518114</td>\n",
       "      <td>0.275841</td>\n",
       "      <td>0.054466</td>\n",
       "      <td>0.751715</td>\n",
       "      <td>-0.310316</td>\n",
       "      <td>-0.377964</td>\n",
       "      <td>-0.310316</td>\n",
       "    </tr>\n",
       "    <tr>\n",
       "      <th>4</th>\n",
       "      <td>-0.290716</td>\n",
       "      <td>0.289903</td>\n",
       "      <td>-0.049454</td>\n",
       "      <td>0.537159</td>\n",
       "      <td>-0.509348</td>\n",
       "      <td>-0.310316</td>\n",
       "      <td>-0.377964</td>\n",
       "      <td>-0.310316</td>\n",
       "    </tr>\n",
       "  </tbody>\n",
       "</table>\n",
       "</div>"
      ],
      "text/plain": [
       "   distance   consume     speed  temp_inside  temp_outside        ac  \\\n",
       "0 -0.505431 -0.266410 -0.049454    -0.428227     -0.789584 -0.310316   \n",
       "1  0.353429 -0.961801 -0.293425     0.054466      1.312187 -0.310316   \n",
       "2 -1.247175  1.124372 -0.781368     0.054466      0.891833 -0.310316   \n",
       "3 -0.095521 -1.518114  0.275841     0.054466      0.751715 -0.310316   \n",
       "4 -0.290716  0.289903 -0.049454     0.537159     -0.509348 -0.310316   \n",
       "\n",
       "       rain       sun  \n",
       "0 -0.377964 -0.310316  \n",
       "1 -0.377964 -0.310316  \n",
       "2 -0.377964 -0.310316  \n",
       "3 -0.377964 -0.310316  \n",
       "4 -0.377964 -0.310316  "
      ]
     },
     "execution_count": 52,
     "metadata": {},
     "output_type": "execute_result"
    }
   ],
   "source": [
    "transformer = StandardScaler().fit(X_train)\n",
    "X_train_scaled = pd.DataFrame(transformer.transform(X_train),columns=X.columns)\n",
    "X_test_scaled = pd.DataFrame(transformer.transform(X_test),columns=X.columns)\n",
    "X_train_scaled.head()"
   ]
  },
  {
   "cell_type": "code",
   "execution_count": 53,
   "id": "a007ae28",
   "metadata": {
    "scrolled": true
   },
   "outputs": [
    {
     "data": {
      "text/plain": [
       "63     SP98\n",
       "284    SP98\n",
       "260     E10\n",
       "320     E10\n",
       "248     E10\n",
       "Name: gas_type, dtype: object"
      ]
     },
     "execution_count": 53,
     "metadata": {},
     "output_type": "execute_result"
    }
   ],
   "source": [
    "y_train.head()"
   ]
  },
  {
   "cell_type": "code",
   "execution_count": 54,
   "id": "f29b0a27",
   "metadata": {},
   "outputs": [],
   "source": [
    "# Transformation also reset the index for X_train_scaled so we need this for y_test as well...\n",
    "y_train = y_train.reset_index(drop=True) \n",
    "y_test = y_test.reset_index(drop=True) "
   ]
  },
  {
   "cell_type": "code",
   "execution_count": 55,
   "id": "c6345d22",
   "metadata": {},
   "outputs": [
    {
     "data": {
      "text/plain": [
       "0    SP98\n",
       "1    SP98\n",
       "2     E10\n",
       "3     E10\n",
       "4     E10\n",
       "Name: gas_type, dtype: object"
      ]
     },
     "execution_count": 55,
     "metadata": {},
     "output_type": "execute_result"
    }
   ],
   "source": [
    "y_train.head()"
   ]
  },
  {
   "cell_type": "code",
   "execution_count": 56,
   "id": "21c286b4",
   "metadata": {},
   "outputs": [
    {
     "data": {
      "text/plain": [
       "(296,)"
      ]
     },
     "execution_count": 56,
     "metadata": {},
     "output_type": "execute_result"
    }
   ],
   "source": [
    "y_train.shape"
   ]
  },
  {
   "cell_type": "markdown",
   "id": "0daf70a9",
   "metadata": {},
   "source": [
    "# Linear relation on logit "
   ]
  },
  {
   "cell_type": "code",
   "execution_count": 57,
   "id": "4dd146ef",
   "metadata": {
    "scrolled": true
   },
   "outputs": [
    {
     "data": {
      "text/plain": [
       "LogisticRegression(random_state=0)"
      ]
     },
     "execution_count": 57,
     "metadata": {},
     "output_type": "execute_result"
    }
   ],
   "source": [
    "LR = LogisticRegression(random_state=0, solver='lbfgs')\n",
    "LR.fit(X_train_scaled, y_train)"
   ]
  },
  {
   "cell_type": "code",
   "execution_count": 58,
   "id": "6b4c3658",
   "metadata": {},
   "outputs": [
    {
     "data": {
      "text/plain": [
       "array([[0.48672415, 0.51327585],\n",
       "       [0.29194027, 0.70805973],\n",
       "       [0.2575903 , 0.7424097 ],\n",
       "       [0.34944735, 0.65055265],\n",
       "       [0.50283201, 0.49716799],\n",
       "       [0.67343103, 0.32656897],\n",
       "       [0.58034578, 0.41965422],\n",
       "       [0.38083148, 0.61916852],\n",
       "       [0.32312627, 0.67687373],\n",
       "       [0.33259702, 0.66740298],\n",
       "       [0.15355572, 0.84644428],\n",
       "       [0.35333787, 0.64666213],\n",
       "       [0.44699603, 0.55300397],\n",
       "       [0.26046   , 0.73954   ],\n",
       "       [0.30052407, 0.69947593],\n",
       "       [0.44486402, 0.55513598],\n",
       "       [0.34893096, 0.65106904],\n",
       "       [0.59483055, 0.40516945],\n",
       "       [0.28834492, 0.71165508],\n",
       "       [0.60546933, 0.39453067],\n",
       "       [0.5264226 , 0.4735774 ],\n",
       "       [0.33866114, 0.66133886],\n",
       "       [0.2775596 , 0.7224404 ],\n",
       "       [0.36153069, 0.63846931],\n",
       "       [0.55152098, 0.44847902],\n",
       "       [0.47744699, 0.52255301],\n",
       "       [0.12868694, 0.87131306],\n",
       "       [0.38196283, 0.61803717],\n",
       "       [0.57078545, 0.42921455],\n",
       "       [0.41175954, 0.58824046],\n",
       "       [0.41125425, 0.58874575],\n",
       "       [0.51372496, 0.48627504],\n",
       "       [0.37204377, 0.62795623],\n",
       "       [0.30892141, 0.69107859],\n",
       "       [0.8054358 , 0.1945642 ],\n",
       "       [0.43452338, 0.56547662],\n",
       "       [0.14030281, 0.85969719],\n",
       "       [0.48124514, 0.51875486],\n",
       "       [0.44862158, 0.55137842],\n",
       "       [0.25052365, 0.74947635],\n",
       "       [0.5095436 , 0.4904564 ],\n",
       "       [0.35505881, 0.64494119],\n",
       "       [0.66444974, 0.33555026],\n",
       "       [0.58989313, 0.41010687],\n",
       "       [0.48745594, 0.51254406],\n",
       "       [0.55986858, 0.44013142],\n",
       "       [0.48781188, 0.51218812],\n",
       "       [0.53255729, 0.46744271],\n",
       "       [0.30580628, 0.69419372],\n",
       "       [0.33786078, 0.66213922],\n",
       "       [0.32636214, 0.67363786],\n",
       "       [0.44817595, 0.55182405],\n",
       "       [0.48673093, 0.51326907],\n",
       "       [0.24246374, 0.75753626],\n",
       "       [0.48774521, 0.51225479],\n",
       "       [0.42127704, 0.57872296],\n",
       "       [0.27482517, 0.72517483],\n",
       "       [0.41224278, 0.58775722],\n",
       "       [0.34520315, 0.65479685],\n",
       "       [0.57088066, 0.42911934],\n",
       "       [0.18455737, 0.81544263],\n",
       "       [0.48957876, 0.51042124],\n",
       "       [0.64301026, 0.35698974],\n",
       "       [0.39747339, 0.60252661],\n",
       "       [0.32922714, 0.67077286],\n",
       "       [0.59732229, 0.40267771],\n",
       "       [0.42074812, 0.57925188],\n",
       "       [0.30836792, 0.69163208],\n",
       "       [0.355173  , 0.644827  ],\n",
       "       [0.27777734, 0.72222266],\n",
       "       [0.83711666, 0.16288334],\n",
       "       [0.55911502, 0.44088498],\n",
       "       [0.42678489, 0.57321511],\n",
       "       [0.36916478, 0.63083522],\n",
       "       [0.5931303 , 0.4068697 ],\n",
       "       [0.48044779, 0.51955221],\n",
       "       [0.32837916, 0.67162084],\n",
       "       [0.17303976, 0.82696024],\n",
       "       [0.65092521, 0.34907479],\n",
       "       [0.12816977, 0.87183023],\n",
       "       [0.54022767, 0.45977233],\n",
       "       [0.23903588, 0.76096412],\n",
       "       [0.32450969, 0.67549031],\n",
       "       [0.38780168, 0.61219832],\n",
       "       [0.40693841, 0.59306159],\n",
       "       [0.53711139, 0.46288861],\n",
       "       [0.31998813, 0.68001187],\n",
       "       [0.59784851, 0.40215149],\n",
       "       [0.62444346, 0.37555654],\n",
       "       [0.37310252, 0.62689748],\n",
       "       [0.25002141, 0.74997859],\n",
       "       [0.35982018, 0.64017982],\n",
       "       [0.77921038, 0.22078962],\n",
       "       [0.4485053 , 0.5514947 ],\n",
       "       [0.29384139, 0.70615861],\n",
       "       [0.44230243, 0.55769757],\n",
       "       [0.4393646 , 0.5606354 ],\n",
       "       [0.54436431, 0.45563569],\n",
       "       [0.46253442, 0.53746558],\n",
       "       [0.30308035, 0.69691965],\n",
       "       [0.40727041, 0.59272959],\n",
       "       [0.24305909, 0.75694091],\n",
       "       [0.42632116, 0.57367884],\n",
       "       [0.39335833, 0.60664167],\n",
       "       [0.39388902, 0.60611098],\n",
       "       [0.59972505, 0.40027495],\n",
       "       [0.25679418, 0.74320582],\n",
       "       [0.59095161, 0.40904839],\n",
       "       [0.51766187, 0.48233813],\n",
       "       [0.39160031, 0.60839969],\n",
       "       [0.35656653, 0.64343347],\n",
       "       [0.39613261, 0.60386739],\n",
       "       [0.37215493, 0.62784507],\n",
       "       [0.43960821, 0.56039179],\n",
       "       [0.49638978, 0.50361022],\n",
       "       [0.36314666, 0.63685334],\n",
       "       [0.12593239, 0.87406761],\n",
       "       [0.25320069, 0.74679931],\n",
       "       [0.4910759 , 0.5089241 ],\n",
       "       [0.45269593, 0.54730407],\n",
       "       [0.48367854, 0.51632146],\n",
       "       [0.25621119, 0.74378881],\n",
       "       [0.46854833, 0.53145167],\n",
       "       [0.42647577, 0.57352423],\n",
       "       [0.47441563, 0.52558437],\n",
       "       [0.28907509, 0.71092491],\n",
       "       [0.49284228, 0.50715772],\n",
       "       [0.24691433, 0.75308567],\n",
       "       [0.42992064, 0.57007936],\n",
       "       [0.5674544 , 0.4325456 ],\n",
       "       [0.77941958, 0.22058042],\n",
       "       [0.35506406, 0.64493594],\n",
       "       [0.63242724, 0.36757276],\n",
       "       [0.27166533, 0.72833467],\n",
       "       [0.51734972, 0.48265028],\n",
       "       [0.53083353, 0.46916647],\n",
       "       [0.31183401, 0.68816599],\n",
       "       [0.51973601, 0.48026399],\n",
       "       [0.21183155, 0.78816845],\n",
       "       [0.40473377, 0.59526623],\n",
       "       [0.21385874, 0.78614126],\n",
       "       [0.38060081, 0.61939919],\n",
       "       [0.39557743, 0.60442257],\n",
       "       [0.41864433, 0.58135567],\n",
       "       [0.42479907, 0.57520093],\n",
       "       [0.42892424, 0.57107576],\n",
       "       [0.45237714, 0.54762286],\n",
       "       [0.23074356, 0.76925644],\n",
       "       [0.53522988, 0.46477012],\n",
       "       [0.34425197, 0.65574803],\n",
       "       [0.40768687, 0.59231313],\n",
       "       [0.44471265, 0.55528735],\n",
       "       [0.38294812, 0.61705188],\n",
       "       [0.24347109, 0.75652891],\n",
       "       [0.49854503, 0.50145497],\n",
       "       [0.49929043, 0.50070957],\n",
       "       [0.42601682, 0.57398318],\n",
       "       [0.58259814, 0.41740186],\n",
       "       [0.19703279, 0.80296721],\n",
       "       [0.34147422, 0.65852578],\n",
       "       [0.26411958, 0.73588042],\n",
       "       [0.54304138, 0.45695862],\n",
       "       [0.5557752 , 0.4442248 ],\n",
       "       [0.43462329, 0.56537671],\n",
       "       [0.42901723, 0.57098277],\n",
       "       [0.32131317, 0.67868683],\n",
       "       [0.54752432, 0.45247568],\n",
       "       [0.54688069, 0.45311931],\n",
       "       [0.26029844, 0.73970156],\n",
       "       [0.24419478, 0.75580522],\n",
       "       [0.16501322, 0.83498678],\n",
       "       [0.51887017, 0.48112983],\n",
       "       [0.36694036, 0.63305964],\n",
       "       [0.33930365, 0.66069635],\n",
       "       [0.6471937 , 0.3528063 ],\n",
       "       [0.19314691, 0.80685309],\n",
       "       [0.41223585, 0.58776415],\n",
       "       [0.52661199, 0.47338801],\n",
       "       [0.32826171, 0.67173829],\n",
       "       [0.58149683, 0.41850317],\n",
       "       [0.48765833, 0.51234167],\n",
       "       [0.42838832, 0.57161168],\n",
       "       [0.35537345, 0.64462655],\n",
       "       [0.55250331, 0.44749669],\n",
       "       [0.31305596, 0.68694404],\n",
       "       [0.13532375, 0.86467625],\n",
       "       [0.26636926, 0.73363074],\n",
       "       [0.54710049, 0.45289951],\n",
       "       [0.43375145, 0.56624855],\n",
       "       [0.28315333, 0.71684667],\n",
       "       [0.28430565, 0.71569435],\n",
       "       [0.55369448, 0.44630552],\n",
       "       [0.59161358, 0.40838642],\n",
       "       [0.64751781, 0.35248219],\n",
       "       [0.50292883, 0.49707117],\n",
       "       [0.32301933, 0.67698067],\n",
       "       [0.5010537 , 0.4989463 ],\n",
       "       [0.36775896, 0.63224104],\n",
       "       [0.55890701, 0.44109299],\n",
       "       [0.46929861, 0.53070139],\n",
       "       [0.42081777, 0.57918223],\n",
       "       [0.29364527, 0.70635473],\n",
       "       [0.24333046, 0.75666954],\n",
       "       [0.31224974, 0.68775026],\n",
       "       [0.70456269, 0.29543731],\n",
       "       [0.27703625, 0.72296375],\n",
       "       [0.4492471 , 0.5507529 ],\n",
       "       [0.35289551, 0.64710449],\n",
       "       [0.4425232 , 0.5574768 ],\n",
       "       [0.24678984, 0.75321016],\n",
       "       [0.65043312, 0.34956688],\n",
       "       [0.46316622, 0.53683378],\n",
       "       [0.48030258, 0.51969742],\n",
       "       [0.41581489, 0.58418511],\n",
       "       [0.25239314, 0.74760686],\n",
       "       [0.45410282, 0.54589718],\n",
       "       [0.45653432, 0.54346568],\n",
       "       [0.65793596, 0.34206404],\n",
       "       [0.51106386, 0.48893614],\n",
       "       [0.37808023, 0.62191977],\n",
       "       [0.37423066, 0.62576934],\n",
       "       [0.14488735, 0.85511265],\n",
       "       [0.45301477, 0.54698523],\n",
       "       [0.34830765, 0.65169235],\n",
       "       [0.24373675, 0.75626325],\n",
       "       [0.78327392, 0.21672608],\n",
       "       [0.22121146, 0.77878854],\n",
       "       [0.2374941 , 0.7625059 ],\n",
       "       [0.13038105, 0.86961895],\n",
       "       [0.27370369, 0.72629631],\n",
       "       [0.49301149, 0.50698851],\n",
       "       [0.4960466 , 0.5039534 ],\n",
       "       [0.44074337, 0.55925663],\n",
       "       [0.35128908, 0.64871092],\n",
       "       [0.48998864, 0.51001136],\n",
       "       [0.34164959, 0.65835041],\n",
       "       [0.47431875, 0.52568125],\n",
       "       [0.52040982, 0.47959018],\n",
       "       [0.41399839, 0.58600161],\n",
       "       [0.29034009, 0.70965991],\n",
       "       [0.38365573, 0.61634427],\n",
       "       [0.39206377, 0.60793623],\n",
       "       [0.34534808, 0.65465192],\n",
       "       [0.54446881, 0.45553119],\n",
       "       [0.23818116, 0.76181884],\n",
       "       [0.57298565, 0.42701435],\n",
       "       [0.47907948, 0.52092052],\n",
       "       [0.58270874, 0.41729126],\n",
       "       [0.28354075, 0.71645925],\n",
       "       [0.46606719, 0.53393281],\n",
       "       [0.36143233, 0.63856767],\n",
       "       [0.38471504, 0.61528496],\n",
       "       [0.50830224, 0.49169776],\n",
       "       [0.48413842, 0.51586158],\n",
       "       [0.7145025 , 0.2854975 ],\n",
       "       [0.2645072 , 0.7354928 ],\n",
       "       [0.25409241, 0.74590759],\n",
       "       [0.36158842, 0.63841158],\n",
       "       [0.29290053, 0.70709947],\n",
       "       [0.40600172, 0.59399828],\n",
       "       [0.20092608, 0.79907392],\n",
       "       [0.53628889, 0.46371111],\n",
       "       [0.40711292, 0.59288708],\n",
       "       [0.18851968, 0.81148032],\n",
       "       [0.24074065, 0.75925935],\n",
       "       [0.24626113, 0.75373887],\n",
       "       [0.43848391, 0.56151609],\n",
       "       [0.65171209, 0.34828791],\n",
       "       [0.44002483, 0.55997517],\n",
       "       [0.47500912, 0.52499088],\n",
       "       [0.20446998, 0.79553002],\n",
       "       [0.48359601, 0.51640399],\n",
       "       [0.63304992, 0.36695008],\n",
       "       [0.27419121, 0.72580879],\n",
       "       [0.28934589, 0.71065411],\n",
       "       [0.37994386, 0.62005614],\n",
       "       [0.28108144, 0.71891856],\n",
       "       [0.52857565, 0.47142435],\n",
       "       [0.4005844 , 0.5994156 ],\n",
       "       [0.29165183, 0.70834817],\n",
       "       [0.40543195, 0.59456805],\n",
       "       [0.44235129, 0.55764871],\n",
       "       [0.41671542, 0.58328458],\n",
       "       [0.32452575, 0.67547425],\n",
       "       [0.48724634, 0.51275366],\n",
       "       [0.20293455, 0.79706545],\n",
       "       [0.44923684, 0.55076316],\n",
       "       [0.40560664, 0.59439336],\n",
       "       [0.34612131, 0.65387869],\n",
       "       [0.30185935, 0.69814065],\n",
       "       [0.38395232, 0.61604768],\n",
       "       [0.3608168 , 0.6391832 ],\n",
       "       [0.41186266, 0.58813734],\n",
       "       [0.69323319, 0.30676681],\n",
       "       [0.35704891, 0.64295109],\n",
       "       [0.559827  , 0.440173  ]])"
      ]
     },
     "execution_count": 58,
     "metadata": {},
     "output_type": "execute_result"
    }
   ],
   "source": [
    "LR.predict_proba(X_train_scaled)\n",
    "#for each set of features you try to predict, you get probability of zero, one."
   ]
  },
  {
   "cell_type": "code",
   "execution_count": 59,
   "id": "8f343408",
   "metadata": {},
   "outputs": [],
   "source": [
    "logits = np.log(1/LR.predict_proba(X_train_scaled)[:,1]-1)"
   ]
  },
  {
   "cell_type": "code",
   "execution_count": 60,
   "id": "a317f37b",
   "metadata": {},
   "outputs": [
    {
     "data": {
      "text/plain": [
       "<matplotlib.collections.PathCollection at 0x7fbad3a2cfa0>"
      ]
     },
     "execution_count": 60,
     "metadata": {},
     "output_type": "execute_result"
    },
    {
     "data": {
      "image/png": "[encoded data removed]",
      "text/plain": [
       "<Figure size 432x288 with 1 Axes>"
      ]
     },
     "metadata": {
      "needs_background": "light"
     },
     "output_type": "display_data"
    }
   ],
   "source": [
    "plt.scatter(logits,X_train_scaled['speed'])"
   ]
  },
  {
   "cell_type": "code",
   "execution_count": 61,
   "id": "48467787",
   "metadata": {},
   "outputs": [
    {
     "data": {
      "text/plain": [
       "<matplotlib.collections.PathCollection at 0x7fbad37b49a0>"
      ]
     },
     "execution_count": 61,
     "metadata": {},
     "output_type": "execute_result"
    },
    {
     "data": {
      "image/png": "[encoded data removed]",
      "text/plain": [
       "<Figure size 432x288 with 1 Axes>"
      ]
     },
     "metadata": {
      "needs_background": "light"
     },
     "output_type": "display_data"
    }
   ],
   "source": [
    "plt.scatter(logits,X_train_scaled['temp_outside'])"
   ]
  },
  {
   "cell_type": "code",
   "execution_count": 62,
   "id": "3737bc18",
   "metadata": {
    "scrolled": true
   },
   "outputs": [
    {
     "data": {
      "text/plain": [
       "<AxesSubplot:>"
      ]
     },
     "execution_count": 62,
     "metadata": {},
     "output_type": "execute_result"
    },
    {
     "data": {
      "image/png": "[encoded data removed]",
      "text/plain": [
       "<Figure size 432x288 with 1 Axes>"
      ]
     },
     "metadata": {
      "needs_background": "light"
     },
     "output_type": "display_data"
    }
   ],
   "source": [
    "count_classes = data['gas_type'].value_counts()\n",
    "count_classes\n",
    "count_classes.plot(kind = 'bar')\n",
    "\n",
    "\n",
    "# we reuse some rows in minority class. That's called oversampling.\n",
    "# we do not use samples from majority class. That's called downsampling.\n",
    "\n",
    "# Balanced data: both classes we classify have same probability to occur.\n",
    "# Imbalanced data: classes have difference in probability to occur."
   ]
  },
  {
   "cell_type": "markdown",
   "id": "f0115da5",
   "metadata": {},
   "source": [
    "# Logistic regression model"
   ]
  },
  {
   "cell_type": "code",
   "execution_count": 63,
   "id": "ebc30d94",
   "metadata": {},
   "outputs": [
    {
     "name": "stdout",
     "output_type": "stream",
     "text": [
      "0.6418918918918919\n",
      "0.5733333333333334\n"
     ]
    }
   ],
   "source": [
    "LR = LogisticRegression(random_state=0, solver='lbfgs')\n",
    "LR.fit(X_train_scaled, y_train)\n",
    "print(LR.score(X_train_scaled, y_train))\n",
    "print(LR.score(X_test_scaled, y_test))"
   ]
  },
  {
   "cell_type": "code",
   "execution_count": 64,
   "id": "8e256ae0",
   "metadata": {},
   "outputs": [
    {
     "data": {
      "text/plain": [
       "(296, 8)"
      ]
     },
     "execution_count": 64,
     "metadata": {},
     "output_type": "execute_result"
    }
   ],
   "source": [
    "X_train_scaled.shape"
   ]
  },
  {
   "cell_type": "code",
   "execution_count": 65,
   "id": "321b85ab",
   "metadata": {},
   "outputs": [
    {
     "data": {
      "text/plain": [
       "(296,)"
      ]
     },
     "execution_count": 65,
     "metadata": {},
     "output_type": "execute_result"
    }
   ],
   "source": [
    "y_train.shape"
   ]
  },
  {
   "cell_type": "code",
   "execution_count": 66,
   "id": "3f4b17d6",
   "metadata": {
    "colab": {
     "base_uri": "https://localhost:8080/"
    },
    "id": "jYTOjlLV477o",
    "outputId": "de946df6-8c79-4a21-c9c5-fdcccecfce0d",
    "scrolled": true
   },
   "outputs": [
    {
     "name": "stdout",
     "output_type": "stream",
     "text": [
      "accuracy: 0.5733333333333334\n",
      "precision:  0.6226415094339622\n",
      "recall:  0.7333333333333333\n",
      "f1:  0.673469387755102\n"
     ]
    }
   ],
   "source": [
    "pred = LR.predict(X_test_scaled)\n",
    "\n",
    "print('accuracy:', accuracy_score(y_test, pred))\n",
    "print(\"precision: \",precision_score(y_test,pred, pos_label='SP98')) # if we predicted that was a positive cases, how often it was true \n",
    "print(\"recall: \",recall_score(y_test,pred, pos_label='SP98')) # number of positive cases we correctly predict as positive\n",
    "print(\"f1: \",f1_score(y_test,pred, pos_label='SP98')) # 2*(precision-recall)/(precision+recall)\n",
    "\n",
    "\n",
    "# The PRECISION is the ratio tp / (tp + fp) where tp is the number of true positives and \n",
    "# fp the number of false positives. The precision is intuitively the ability of the classifier not to \n",
    "# label as positive a sample that is negative.\n",
    "\n",
    "# The RECALL is the ratio tp / (tp + fn) where tp is the number of true positives and \n",
    "# fn the number of false negatives. \n",
    "# The recall is intuitively the ability of the classifier to find all the positive samples.\n",
    "\n",
    "# The F1 SCORE can be interpreted as a harmonic mean of the precision and recall.\n",
    "# The relative contribution of precision and recall to the F1 score are equal. The formula for the F1 score is:\n",
    "# F1 = 2 * (precision * recall) / (precision + recall)\n",
    "\n",
    "# The parameters reach their best value at 1 and worst score at 0. "
   ]
  },
  {
   "cell_type": "code",
   "execution_count": 67,
   "id": "8c3663dc",
   "metadata": {
    "scrolled": true
   },
   "outputs": [
    {
     "name": "stderr",
     "output_type": "stream",
     "text": [
      "/Users/ozguryildirim/opt/anaconda3/lib/python3.9/site-packages/sklearn/utils/deprecation.py:87: FutureWarning: Function plot_confusion_matrix is deprecated; Function `plot_confusion_matrix` is deprecated in 1.0 and will be removed in 1.2. Use one of the class methods: ConfusionMatrixDisplay.from_predictions or ConfusionMatrixDisplay.from_estimator.\n",
      "  warnings.warn(msg, category=FutureWarning)\n"
     ]
    },
    {
     "data": {
      "image/png": "[encoded data removed]",
      "text/plain": [
       "<Figure size 432x288 with 2 Axes>"
      ]
     },
     "metadata": {
      "needs_background": "light"
     },
     "output_type": "display_data"
    }
   ],
   "source": [
    "plot_confusion_matrix(LR, X_test_scaled, y_test,cmap=plt.cm.Blues)  \n",
    "plt.title('Actual vs. Predicted Data', fontsize=15)\n",
    "plt.xlabel('Predictions', fontsize=13)\n",
    "plt.ylabel('Actual Data', fontsize=13)\n",
    "plt.show()\n",
    "\n",
    "# There are 53 gas types predicted as SP98 gas type. 20 of them are E10 gas type. 33 of them are SP98 gas type. That's why precision is 0.62.\n",
    "# There are 22 gas types predicted as E10 gas type. 10 of them are E10 gas type. 12 of them are SP98 gas type.\n",
    "# True positive=33, false negative=12 => recall = 0.73\n",
    "\n",
    "# Score of logistic regression model is 0.57. Our model predicts the gas types fair based on the accuracy score and performance metrics. \n",
    "\n",
    "# Although SP98 gas type consumes more than E10, the cars approaches more distances with higher speed when SP98 gas type is used.\n",
    "# Therefore, SP98 gas type is more preferable than E10.\n",
    "# Please see the Dashboard in Tableau. The link is in readme file.\n"
   ]
  },
  {
   "cell_type": "markdown",
   "id": "6323cfc8",
   "metadata": {},
   "source": [
    "# Hyperparameter search"
   ]
  },
  {
   "cell_type": "code",
   "execution_count": 68,
   "id": "e70e0ddc",
   "metadata": {},
   "outputs": [],
   "source": [
    "from sklearn.model_selection import GridSearchCV # cross validation\n",
    "# function GridSearchCV with cross validation\n",
    "\n",
    "max_depth_choices= [3,10,None]\n",
    "min_samples_split_choices = [2,10]\n",
    "min_samples_leaf_choices = [2,10]        "
   ]
  },
  {
   "cell_type": "code",
   "execution_count": 69,
   "id": "c47a233c",
   "metadata": {},
   "outputs": [],
   "source": [
    "# Create the  grid \n",
    "# this is a dictionary from hyperparameters to potential values\n",
    "# the keys in this dictionary have to match the names of the hyperparameters in the documentation of the model\n",
    "grid = {'max_depth': max_depth_choices, # dictionary where each key is name of the parameter of model that we are gonna explore\n",
    "        'min_samples_split': min_samples_split_choices,\n",
    "        'min_samples_leaf': min_samples_leaf_choices}"
   ]
  },
  {
   "cell_type": "code",
   "execution_count": 70,
   "id": "1047c260",
   "metadata": {},
   "outputs": [],
   "source": [
    "# Instantiate the grid search model object\n",
    "\n",
    "# estimator -> model to optimize \n",
    "model1 = RandomForestClassifier()\n",
    "# param_grid -> state the dictionary of parameters to optimize\n",
    "# cv = 5 -> number of cross validation folds <------ CV is REALLY important in grid search. Why?\n",
    "grid_search = GridSearchCV(estimator = model1, param_grid = grid, cv = 10)"
   ]
  },
  {
   "cell_type": "code",
   "execution_count": 71,
   "id": "5d5bbc03",
   "metadata": {},
   "outputs": [
    {
     "name": "stdout",
     "output_type": "stream",
     "text": [
      "CPU times: user 19.6 s, sys: 341 ms, total: 19.9 s\n",
      "Wall time: 20.3 s\n"
     ]
    },
    {
     "data": {
      "text/plain": [
       "GridSearchCV(cv=10, estimator=RandomForestClassifier(),\n",
       "             param_grid={'max_depth': [3, 10, None],\n",
       "                         'min_samples_leaf': [2, 10],\n",
       "                         'min_samples_split': [2, 10]})"
      ]
     },
     "execution_count": 71,
     "metadata": {},
     "output_type": "execute_result"
    }
   ],
   "source": [
    "%%time\n",
    "# Fit the grid search to the data\n",
    "grid_search.fit(X_train_scaled, y_train)"
   ]
  },
  {
   "cell_type": "code",
   "execution_count": 72,
   "id": "0742335b",
   "metadata": {},
   "outputs": [
    {
     "data": {
      "text/plain": [
       "{'max_depth': None, 'min_samples_leaf': 2, 'min_samples_split': 10}"
      ]
     },
     "execution_count": 72,
     "metadata": {},
     "output_type": "execute_result"
    }
   ],
   "source": [
    "grid_search.best_params_ "
   ]
  },
  {
   "cell_type": "code",
   "execution_count": 73,
   "id": "71fcdf7c",
   "metadata": {},
   "outputs": [
    {
     "data": {
      "text/plain": [
       "0.6911494252873562"
      ]
     },
     "execution_count": 73,
     "metadata": {},
     "output_type": "execute_result"
    }
   ],
   "source": [
    "grid_search.best_score_"
   ]
  },
  {
   "cell_type": "code",
   "execution_count": 74,
   "id": "92af64da",
   "metadata": {},
   "outputs": [],
   "source": [
    "from sklearn.model_selection import GridSearchCV # cross validation\n",
    "# function GridSearchCV with cross validation\n",
    "\n",
    "max_depth_choices= [3,10,None]\n",
    "splitter_choices=['best','random']\n",
    "min_samples_split_choices = [2,10]\n",
    "min_samples_leaf_choices = [2,10] \n",
    "min_weight_fraction_leaf_choices = [0.1,0.3,0.5,0.7,1]\n",
    "max_features_choices = [1,3,5,7,9]"
   ]
  },
  {
   "cell_type": "code",
   "execution_count": 75,
   "id": "eb6d7f72",
   "metadata": {},
   "outputs": [],
   "source": [
    "# Create the  grid \n",
    "# this is a dictionary from hyperparameters to potential values\n",
    "# the keys in this dictionary have to match the names of the hyperparameters in the documentation of the model\n",
    "grid = {'max_depth': max_depth_choices,\n",
    "        'splitter': splitter_choices,\n",
    "        'min_samples_split': min_samples_split_choices,\n",
    "        'min_samples_leaf': min_samples_leaf_choices,\n",
    "        'min_weight_fraction_leaf': min_weight_fraction_leaf_choices,\n",
    "        'max_features': max_features_choices}"
   ]
  },
  {
   "cell_type": "code",
   "execution_count": 76,
   "id": "0740c5bd",
   "metadata": {},
   "outputs": [],
   "source": [
    "# Instantiate the grid search model object\n",
    "\n",
    "# estimator -> model to optimize \n",
    "model2 = DecisionTreeClassifier()\n",
    "# param_grid -> state the dictionary of parameters to optimize\n",
    "# cv = 5 -> number of cross validation folds <------ CV is REALLY important in grid search. Why?\n",
    "grid_search = GridSearchCV(estimator = model2, param_grid = grid, cv = 10)"
   ]
  },
  {
   "cell_type": "code",
   "execution_count": 77,
   "id": "a1f90fb7",
   "metadata": {},
   "outputs": [
    {
     "name": "stdout",
     "output_type": "stream",
     "text": [
      "CPU times: user 18.4 s, sys: 374 ms, total: 18.7 s\n",
      "Wall time: 19.2 s\n"
     ]
    },
    {
     "name": "stderr",
     "output_type": "stream",
     "text": [
      "/Users/ozguryildirim/opt/anaconda3/lib/python3.9/site-packages/sklearn/model_selection/_validation.py:372: FitFailedWarning: \n",
      "3120 fits failed out of a total of 6000.\n",
      "The score on these train-test partitions for these parameters will be set to nan.\n",
      "If these failures are not expected, you can try to debug them by setting error_score='raise'.\n",
      "\n",
      "Below are more details about the failures:\n",
      "--------------------------------------------------------------------------------\n",
      "2400 fits failed with the following error:\n",
      "Traceback (most recent call last):\n",
      "  File \"/Users/ozguryildirim/opt/anaconda3/lib/python3.9/site-packages/sklearn/model_selection/_validation.py\", line 680, in _fit_and_score\n",
      "    estimator.fit(X_train, y_train, **fit_params)\n",
      "  File \"/Users/ozguryildirim/opt/anaconda3/lib/python3.9/site-packages/sklearn/tree/_classes.py\", line 937, in fit\n",
      "    super().fit(\n",
      "  File \"/Users/ozguryildirim/opt/anaconda3/lib/python3.9/site-packages/sklearn/tree/_classes.py\", line 304, in fit\n",
      "    raise ValueError(\"min_weight_fraction_leaf must in [0, 0.5]\")\n",
      "ValueError: min_weight_fraction_leaf must in [0, 0.5]\n",
      "\n",
      "--------------------------------------------------------------------------------\n",
      "720 fits failed with the following error:\n",
      "Traceback (most recent call last):\n",
      "  File \"/Users/ozguryildirim/opt/anaconda3/lib/python3.9/site-packages/sklearn/model_selection/_validation.py\", line 680, in _fit_and_score\n",
      "    estimator.fit(X_train, y_train, **fit_params)\n",
      "  File \"/Users/ozguryildirim/opt/anaconda3/lib/python3.9/site-packages/sklearn/tree/_classes.py\", line 937, in fit\n",
      "    super().fit(\n",
      "  File \"/Users/ozguryildirim/opt/anaconda3/lib/python3.9/site-packages/sklearn/tree/_classes.py\", line 308, in fit\n",
      "    raise ValueError(\"max_features must be in (0, n_features]\")\n",
      "ValueError: max_features must be in (0, n_features]\n",
      "\n",
      "  warnings.warn(some_fits_failed_message, FitFailedWarning)\n",
      "/Users/ozguryildirim/opt/anaconda3/lib/python3.9/site-packages/sklearn/model_selection/_search.py:969: UserWarning: One or more of the test scores are non-finite: [0.58781609 0.58781609 0.58436782 0.58448276 0.58781609 0.58781609\n",
      "        nan        nan        nan        nan 0.57367816 0.58781609\n",
      " 0.56448276 0.58781609 0.58781609 0.58781609        nan        nan\n",
      "        nan        nan 0.57850575 0.58448276 0.55011494 0.58781609\n",
      " 0.58781609 0.58781609        nan        nan        nan        nan\n",
      " 0.59448276 0.58781609 0.57781609 0.58781609 0.58781609 0.58781609\n",
      "        nan        nan        nan        nan 0.54034483 0.59103448\n",
      " 0.58022989 0.58781609 0.58781609 0.58781609        nan        nan\n",
      "        nan        nan 0.58678161 0.58781609 0.54045977 0.58781609\n",
      " 0.58781609 0.58781609        nan        nan        nan        nan\n",
      " 0.53264368 0.59436782 0.51344828 0.58781609 0.58781609 0.58781609\n",
      "        nan        nan        nan        nan 0.60137931 0.56747126\n",
      " 0.54724138 0.58114943 0.58781609 0.58781609        nan        nan\n",
      "        nan        nan 0.57298851 0.56425287 0.52965517 0.57057471\n",
      " 0.58781609 0.58781609        nan        nan        nan        nan\n",
      " 0.63781609 0.57091954 0.56735632 0.58781609 0.58781609 0.58781609\n",
      "        nan        nan        nan        nan 0.62816092 0.5608046\n",
      " 0.54333333 0.58781609 0.58781609 0.58781609        nan        nan\n",
      "        nan        nan 0.61689655 0.56045977 0.53310345 0.56781609\n",
      " 0.58781609 0.58781609        nan        nan        nan        nan\n",
      " 0.59678161 0.57770115 0.52287356 0.58781609 0.58781609 0.58781609\n",
      "        nan        nan        nan        nan 0.60344828 0.59436782\n",
      " 0.5191954  0.59448276 0.58781609 0.58781609        nan        nan\n",
      "        nan        nan 0.62367816 0.59770115 0.51597701 0.58448276\n",
      " 0.58781609 0.58781609        nan        nan        nan        nan\n",
      " 0.64091954 0.58413793 0.5191954  0.58781609 0.58781609 0.58781609\n",
      "        nan        nan        nan        nan        nan        nan\n",
      "        nan        nan        nan        nan        nan        nan\n",
      "        nan        nan        nan        nan        nan        nan\n",
      "        nan        nan        nan        nan        nan        nan\n",
      "        nan        nan        nan        nan        nan        nan\n",
      "        nan        nan        nan        nan        nan        nan\n",
      "        nan        nan        nan        nan        nan        nan\n",
      "        nan        nan 0.56735632 0.58781609 0.58436782 0.58781609\n",
      " 0.58781609 0.58781609        nan        nan        nan        nan\n",
      " 0.5945977  0.59126437 0.59114943 0.58781609 0.58781609 0.58781609\n",
      "        nan        nan        nan        nan 0.55       0.58091954\n",
      " 0.58781609 0.57114943 0.58781609 0.58781609        nan        nan\n",
      "        nan        nan 0.54344828 0.58781609 0.58448276 0.58781609\n",
      " 0.58781609 0.58781609        nan        nan        nan        nan\n",
      " 0.60034483 0.60436782 0.55747126 0.58781609 0.58781609 0.58781609\n",
      "        nan        nan        nan        nan 0.63068966 0.60126437\n",
      " 0.52586207 0.58781609 0.58781609 0.58781609        nan        nan\n",
      "        nan        nan 0.57988506 0.58091954 0.53367816 0.58781609\n",
      " 0.58781609 0.58781609        nan        nan        nan        nan\n",
      " 0.56724138 0.6116092  0.54770115 0.58781609 0.58781609 0.58781609\n",
      "        nan        nan        nan        nan 0.61390805 0.55712644\n",
      " 0.51264368 0.58781609 0.58781609 0.58781609        nan        nan\n",
      "        nan        nan 0.61494253 0.58045977 0.53344828 0.58781609\n",
      " 0.58781609 0.58781609        nan        nan        nan        nan\n",
      " 0.65712644 0.54666667 0.54045977 0.58114943 0.58781609 0.58781609\n",
      "        nan        nan        nan        nan 0.59103448 0.59114943\n",
      " 0.51678161 0.58781609 0.58781609 0.58781609        nan        nan\n",
      "        nan        nan 0.6145977  0.58482759 0.51252874 0.58781609\n",
      " 0.58781609 0.58781609        nan        nan        nan        nan\n",
      " 0.65436782 0.5783908  0.51252874 0.57448276 0.58781609 0.58781609\n",
      "        nan        nan        nan        nan 0.6645977  0.54701149\n",
      " 0.51597701 0.58114943 0.58781609 0.58781609        nan        nan\n",
      "        nan        nan 0.6408046  0.61149425 0.52643678 0.58781609\n",
      " 0.58781609 0.58781609        nan        nan        nan        nan\n",
      "        nan        nan        nan        nan        nan        nan\n",
      "        nan        nan        nan        nan        nan        nan\n",
      "        nan        nan        nan        nan        nan        nan\n",
      "        nan        nan        nan        nan        nan        nan\n",
      "        nan        nan        nan        nan        nan        nan\n",
      "        nan        nan        nan        nan        nan        nan\n",
      "        nan        nan        nan        nan 0.61862069 0.58781609\n",
      " 0.59402299 0.58781609 0.58781609 0.58781609        nan        nan\n",
      "        nan        nan 0.56724138 0.58781609 0.58781609 0.57781609\n",
      " 0.58781609 0.58781609        nan        nan        nan        nan\n",
      " 0.57367816 0.58781609 0.58448276 0.58781609 0.58781609 0.58781609\n",
      "        nan        nan        nan        nan 0.57425287 0.58091954\n",
      " 0.56724138 0.58781609 0.58781609 0.58781609        nan        nan\n",
      "        nan        nan 0.59758621 0.56758621 0.5637931  0.58781609\n",
      " 0.58781609 0.58781609        nan        nan        nan        nan\n",
      " 0.58678161 0.58448276 0.5608046  0.58448276 0.58781609 0.58781609\n",
      "        nan        nan        nan        nan 0.52321839 0.57747126\n",
      " 0.53344828 0.58781609 0.58781609 0.58781609        nan        nan\n",
      "        nan        nan 0.58367816 0.58436782 0.56367816 0.58781609\n",
      " 0.58781609 0.58781609        nan        nan        nan        nan\n",
      " 0.63781609 0.58114943 0.55356322 0.58781609 0.58781609 0.58781609\n",
      "        nan        nan        nan        nan 0.60057471 0.54367816\n",
      " 0.53666667 0.58781609 0.58781609 0.58781609        nan        nan\n",
      "        nan        nan 0.63735632 0.58436782 0.56344828 0.58781609\n",
      " 0.58781609 0.58781609        nan        nan        nan        nan\n",
      " 0.63091954 0.54701149 0.55045977 0.58114943 0.58781609 0.58781609\n",
      "        nan        nan        nan        nan 0.67494253 0.54333333\n",
      " 0.51252874 0.58781609 0.58781609 0.58781609        nan        nan\n",
      "        nan        nan 0.65816092 0.59747126 0.5191954  0.58781609\n",
      " 0.58781609 0.58781609        nan        nan        nan        nan\n",
      " 0.65494253 0.59367816 0.50586207 0.58781609 0.58781609 0.58781609\n",
      "        nan        nan        nan        nan 0.65103448 0.58114943\n",
      " 0.5091954  0.58781609 0.58781609 0.58781609        nan        nan\n",
      "        nan        nan        nan        nan        nan        nan\n",
      "        nan        nan        nan        nan        nan        nan\n",
      "        nan        nan        nan        nan        nan        nan\n",
      "        nan        nan        nan        nan        nan        nan\n",
      "        nan        nan        nan        nan        nan        nan\n",
      "        nan        nan        nan        nan        nan        nan\n",
      "        nan        nan        nan        nan        nan        nan]\n",
      "  warnings.warn(\n"
     ]
    },
    {
     "data": {
      "text/plain": [
       "GridSearchCV(cv=10, estimator=DecisionTreeClassifier(),\n",
       "             param_grid={'max_depth': [3, 10, None],\n",
       "                         'max_features': [1, 3, 5, 7, 9],\n",
       "                         'min_samples_leaf': [2, 10],\n",
       "                         'min_samples_split': [2, 10],\n",
       "                         'min_weight_fraction_leaf': [0.1, 0.3, 0.5, 0.7, 1],\n",
       "                         'splitter': ['best', 'random']})"
      ]
     },
     "execution_count": 77,
     "metadata": {},
     "output_type": "execute_result"
    }
   ],
   "source": [
    "%%time\n",
    "# Fit the grid search to the data\n",
    "grid_search.fit(X_train_scaled, y_train)"
   ]
  },
  {
   "cell_type": "code",
   "execution_count": 78,
   "id": "aec1c40f",
   "metadata": {},
   "outputs": [
    {
     "data": {
      "text/plain": [
       "{'max_depth': None,\n",
       " 'max_features': 7,\n",
       " 'min_samples_leaf': 2,\n",
       " 'min_samples_split': 2,\n",
       " 'min_weight_fraction_leaf': 0.1,\n",
       " 'splitter': 'best'}"
      ]
     },
     "execution_count": 78,
     "metadata": {},
     "output_type": "execute_result"
    }
   ],
   "source": [
    "grid_search.best_params_ "
   ]
  },
  {
   "cell_type": "code",
   "execution_count": 79,
   "id": "c1b3b538",
   "metadata": {},
   "outputs": [
    {
     "data": {
      "text/plain": [
       "0.6749425287356323"
      ]
     },
     "execution_count": 79,
     "metadata": {},
     "output_type": "execute_result"
    }
   ],
   "source": [
    "grid_search.best_score_"
   ]
  },
  {
   "cell_type": "markdown",
   "id": "fe342c58",
   "metadata": {},
   "source": [
    "# Model pipeline"
   ]
  },
  {
   "cell_type": "code",
   "execution_count": 80,
   "id": "8e1f0f21",
   "metadata": {},
   "outputs": [
    {
     "name": "stdout",
     "output_type": "stream",
     "text": [
      "{'Random Forest Classifier': 0.6810344827586207, 'Decision Tree Classifier': 0.6442528735632186, 'Logistic Regression': 0.6213793103448275}\n"
     ]
    }
   ],
   "source": [
    "model1 = RandomForestClassifier(max_depth = None, min_samples_leaf = 2, min_samples_split = 10) \n",
    "model2 = DecisionTreeClassifier(max_depth = 10, max_features = 7, min_samples_leaf = 10, min_samples_split = 2, min_weight_fraction_leaf = 0.1, splitter = 'best') \n",
    "model3 = LogisticRegression(random_state=0, solver='lbfgs')\n",
    "\n",
    "model_pipeline = [model1, model2, model3]\n",
    "model_names = ['Random Forest Classifier', 'Decision Tree Classifier', 'Logistic Regression']\n",
    "scores = {}\n",
    "for model, model_name in zip(model_pipeline, model_names):\n",
    "    mean_score = np.mean(cross_val_score(model, X_train_scaled, y_train, cv=10))\n",
    "    scores[model_name] = mean_score\n",
    "print(scores)"
   ]
  },
  {
   "cell_type": "code",
   "execution_count": 81,
   "id": "294a5bdb",
   "metadata": {},
   "outputs": [
    {
     "data": {
      "text/plain": [
       "[(RandomForestClassifier(min_samples_leaf=2, min_samples_split=10),\n",
       "  'Random Forest Classifier'),\n",
       " (DecisionTreeClassifier(max_depth=10, max_features=7, min_samples_leaf=10,\n",
       "                         min_weight_fraction_leaf=0.1),\n",
       "  'Decision Tree Classifier'),\n",
       " (LogisticRegression(random_state=0), 'Logistic Regression')]"
      ]
     },
     "execution_count": 81,
     "metadata": {},
     "output_type": "execute_result"
    }
   ],
   "source": [
    "list(zip(model_pipeline, model_names))"
   ]
  },
  {
   "cell_type": "code",
   "execution_count": 82,
   "id": "2e0294cd",
   "metadata": {},
   "outputs": [
    {
     "name": "stdout",
     "output_type": "stream",
     "text": [
      "{'Random Forest Classifier': 0.68, 'Decision Tree Classifier': 0.6666666666666666, 'Logistic Regression': 0.5733333333333334}\n"
     ]
    }
   ],
   "source": [
    "test_scores = {}\n",
    "\n",
    "for model, model_name in zip(model_pipeline,model_names):\n",
    "    model.fit(X_train_scaled, y_train)\n",
    "    test_scores[model_name] = model.score(X_test_scaled,y_test)\n",
    "print(test_scores)"
   ]
  },
  {
   "cell_type": "code",
   "execution_count": 83,
   "id": "b4c119fb",
   "metadata": {},
   "outputs": [
    {
     "data": {
      "text/plain": [
       "SP98    174\n",
       "E10     122\n",
       "Name: gas_type, dtype: int64"
      ]
     },
     "execution_count": 83,
     "metadata": {},
     "output_type": "execute_result"
    }
   ],
   "source": [
    "y_train.value_counts() # balanced data"
   ]
  },
  {
   "cell_type": "code",
   "execution_count": 84,
   "id": "eaeeb27b",
   "metadata": {
    "scrolled": true
   },
   "outputs": [
    {
     "name": "stdout",
     "output_type": "stream",
     "text": [
      "SP98    45\n",
      "E10     30\n",
      "Name: gas_type, dtype: int64\n"
     ]
    }
   ],
   "source": [
    "print(y_test.value_counts())"
   ]
  },
  {
   "cell_type": "code",
   "execution_count": 87,
   "id": "c6607820",
   "metadata": {},
   "outputs": [
    {
     "name": "stdout",
     "output_type": "stream",
     "text": [
      "accuracy: 0.68\n",
      "precision:  0.68\n",
      "recall:  0.68\n",
      "f1:  0.68\n"
     ]
    }
   ],
   "source": [
    "# RandomForestClassifier\n",
    "predictions = model1.predict(X_test_scaled)\n",
    "\n",
    "print('accuracy:', accuracy_score(y_test, predictions))\n",
    "print(\"precision: \", precision_score(y_test,predictions, average='weighted'))\n",
    "print(\"recall: \", recall_score(y_test,predictions, average='weighted'))\n",
    "print(\"f1: \", f1_score(y_test,predictions, average='weighted'))"
   ]
  },
  {
   "cell_type": "code",
   "execution_count": 86,
   "id": "347aee27",
   "metadata": {
    "scrolled": true
   },
   "outputs": [
    {
     "name": "stderr",
     "output_type": "stream",
     "text": [
      "/Users/ozguryildirim/opt/anaconda3/lib/python3.9/site-packages/sklearn/utils/deprecation.py:87: FutureWarning: Function plot_confusion_matrix is deprecated; Function `plot_confusion_matrix` is deprecated in 1.0 and will be removed in 1.2. Use one of the class methods: ConfusionMatrixDisplay.from_predictions or ConfusionMatrixDisplay.from_estimator.\n",
      "  warnings.warn(msg, category=FutureWarning)\n"
     ]
    },
    {
     "data": {
      "image/png": "[encoded data removed]",
      "text/plain": [
       "<Figure size 432x288 with 2 Axes>"
      ]
     },
     "metadata": {
      "needs_background": "light"
     },
     "output_type": "display_data"
    }
   ],
   "source": [
    "# RandomForestClassifier\n",
    "fig_1 = plot_confusion_matrix(model1, X_test_scaled, y_test, cmap = plt.cm.Blues)\n",
    "plt.title('Actual vs. Predicted Data', fontsize=15)\n",
    "plt.xlabel('Predictions', fontsize=13)\n",
    "plt.ylabel('Actual Data', fontsize=13)\n",
    "plt.show()\n",
    "\n",
    "# There are 45 gas types predicted as SP98 gas type. 12 of them are E10 gas type. 33 of them are SP98 gas type. That's why precision is 0.68.\n",
    "# There are 30 gas types predicted as E10 gas type. 12 of them are E10 gas type. 18 of them are SP98 gas type.\n",
    "# True positive=33, false negative=12 => recall = 0.68.\n",
    "\n",
    "# The best performance comes from random forest classifier model among when compared to other models. That's why we selected random forest classifier to predict the gas types.\n",
    "# Score of random forest classifier model is 0.68. Our model predicts the gas types good based on the accuracy score and performance metrics. \n",
    "\n",
    "# Although SP98 gas type consumes more than E10, the cars approaches more distances with higher speed when SP98 gas type is used.\n",
    "# Therefore, SP98 gas type is more preferable than E10.\n",
    "# Please see the Dashboard in Tableau. The link is in readme file.\n"
   ]
  }
 ],
 "metadata": {
  "kernelspec": {
   "display_name": "Python 3 (ipykernel)",
   "language": "python",
   "name": "python3"
  },
  "language_info": {
   "codemirror_mode": {
    "name": "ipython",
    "version": 3
   },
   "file_extension": ".py",
   "mimetype": "text/x-python",
   "name": "python",
   "nbconvert_exporter": "python",
   "pygments_lexer": "ipython3",
   "version": "3.9.12"
  },
  "toc": {
   "base_numbering": 1,
   "nav_menu": {},
   "number_sections": true,
   "sideBar": true,
   "skip_h1_title": false,
   "title_cell": "Table of Contents",
   "title_sidebar": "Contents",
   "toc_cell": false,
   "toc_position": {
    "height": "calc(100% - 180px)",
    "left": "10px",
    "top": "150px",
    "width": "256px"
   },
   "toc_section_display": true,
   "toc_window_display": true
  }
 },
 "nbformat": 4,
 "nbformat_minor": 5
}
